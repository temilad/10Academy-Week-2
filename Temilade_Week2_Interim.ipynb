{
 "cells": [
  {
   "cell_type": "markdown",
   "metadata": {},
   "source": [
    "## Temilade Adelakun\n",
    "## ID: 141772020"
   ]
  },
  {
   "cell_type": "code",
   "execution_count": 1,
   "metadata": {},
   "outputs": [],
   "source": [
    "import numpy as np\n",
    "import pandas as pd\n",
    "from matplotlib import pyplot as plt\n",
    "import seaborn as sns\n",
    "%matplotlib inline\n",
    "pd.set_option(\"display.max_rows\", 100)\n",
    "pd.set_option(\"display.max_columns\", 100)"
   ]
  },
  {
   "cell_type": "markdown",
   "metadata": {},
   "source": [
    "## Import Data"
   ]
  },
  {
   "cell_type": "code",
   "execution_count": 2,
   "metadata": {},
   "outputs": [],
   "source": [
    "data = pd.read_excel('week2_challenge_data_source.xlsx')\n",
    "description = pd.read_excel('Field Descriptions.xlsx')"
   ]
  },
  {
   "cell_type": "code",
   "execution_count": 3,
   "metadata": {},
   "outputs": [
    {
     "data": {
      "text/plain": [
       "(150001, 55)"
      ]
     },
     "execution_count": 3,
     "metadata": {},
     "output_type": "execute_result"
    }
   ],
   "source": [
    "data.shape"
   ]
  },
  {
   "cell_type": "code",
   "execution_count": 4,
   "metadata": {},
   "outputs": [
    {
     "data": {
      "text/html": [
       "<div>\n",
       "<style scoped>\n",
       "    .dataframe tbody tr th:only-of-type {\n",
       "        vertical-align: middle;\n",
       "    }\n",
       "\n",
       "    .dataframe tbody tr th {\n",
       "        vertical-align: top;\n",
       "    }\n",
       "\n",
       "    .dataframe thead th {\n",
       "        text-align: right;\n",
       "    }\n",
       "</style>\n",
       "<table border=\"1\" class=\"dataframe\">\n",
       "  <thead>\n",
       "    <tr style=\"text-align: right;\">\n",
       "      <th></th>\n",
       "      <th>Bearer Id</th>\n",
       "      <th>Start</th>\n",
       "      <th>Start ms</th>\n",
       "      <th>End</th>\n",
       "      <th>End ms</th>\n",
       "      <th>Dur. (ms)</th>\n",
       "      <th>IMSI</th>\n",
       "      <th>MSISDN/Number</th>\n",
       "      <th>IMEI</th>\n",
       "      <th>Last Location Name</th>\n",
       "      <th>Avg RTT DL (ms)</th>\n",
       "      <th>Avg RTT UL (ms)</th>\n",
       "      <th>Avg Bearer TP DL (kbps)</th>\n",
       "      <th>Avg Bearer TP UL (kbps)</th>\n",
       "      <th>TCP DL Retrans. Vol (Bytes)</th>\n",
       "      <th>TCP UL Retrans. Vol (Bytes)</th>\n",
       "      <th>DL TP &lt; 50 Kbps (%)</th>\n",
       "      <th>50 Kbps &lt; DL TP &lt; 250 Kbps (%)</th>\n",
       "      <th>250 Kbps &lt; DL TP &lt; 1 Mbps (%)</th>\n",
       "      <th>DL TP &gt; 1 Mbps (%)</th>\n",
       "      <th>UL TP &lt; 10 Kbps (%)</th>\n",
       "      <th>10 Kbps &lt; UL TP &lt; 50 Kbps (%)</th>\n",
       "      <th>50 Kbps &lt; UL TP &lt; 300 Kbps (%)</th>\n",
       "      <th>UL TP &gt; 300 Kbps (%)</th>\n",
       "      <th>HTTP DL (Bytes)</th>\n",
       "      <th>HTTP UL (Bytes)</th>\n",
       "      <th>Activity Duration DL (ms)</th>\n",
       "      <th>Activity Duration UL (ms)</th>\n",
       "      <th>Dur. (ms).1</th>\n",
       "      <th>Handset Manufacturer</th>\n",
       "      <th>Handset Type</th>\n",
       "      <th>Nb of sec with 125000B &lt; Vol DL</th>\n",
       "      <th>Nb of sec with 1250B &lt; Vol UL &lt; 6250B</th>\n",
       "      <th>Nb of sec with 31250B &lt; Vol DL &lt; 125000B</th>\n",
       "      <th>Nb of sec with 37500B &lt; Vol UL</th>\n",
       "      <th>Nb of sec with 6250B &lt; Vol DL &lt; 31250B</th>\n",
       "      <th>Nb of sec with 6250B &lt; Vol UL &lt; 37500B</th>\n",
       "      <th>Nb of sec with Vol DL &lt; 6250B</th>\n",
       "      <th>Nb of sec with Vol UL &lt; 1250B</th>\n",
       "      <th>Social Media DL (Bytes)</th>\n",
       "      <th>Social Media UL (Bytes)</th>\n",
       "      <th>Google DL (Bytes)</th>\n",
       "      <th>Google UL (Bytes)</th>\n",
       "      <th>Email DL (Bytes)</th>\n",
       "      <th>Email UL (Bytes)</th>\n",
       "      <th>Youtube DL (Bytes)</th>\n",
       "      <th>Youtube UL (Bytes)</th>\n",
       "      <th>Netflix DL (Bytes)</th>\n",
       "      <th>Netflix UL (Bytes)</th>\n",
       "      <th>Gaming DL (Bytes)</th>\n",
       "      <th>Gaming UL (Bytes)</th>\n",
       "      <th>Other DL (Bytes)</th>\n",
       "      <th>Other UL (Bytes)</th>\n",
       "      <th>Total UL (Bytes)</th>\n",
       "      <th>Total DL (Bytes)</th>\n",
       "    </tr>\n",
       "  </thead>\n",
       "  <tbody>\n",
       "    <tr>\n",
       "      <th>0</th>\n",
       "      <td>13114483460844900352</td>\n",
       "      <td>2019-04-04 12:01:18</td>\n",
       "      <td>770.0</td>\n",
       "      <td>2019-04-25 14:35:31</td>\n",
       "      <td>662.0</td>\n",
       "      <td>1823652.0</td>\n",
       "      <td>2.082014e+14</td>\n",
       "      <td>3.366496e+10</td>\n",
       "      <td>3.552121e+13</td>\n",
       "      <td>9164566995485190</td>\n",
       "      <td>42.0</td>\n",
       "      <td>5.0</td>\n",
       "      <td>23.0</td>\n",
       "      <td>44.0</td>\n",
       "      <td>NaN</td>\n",
       "      <td>NaN</td>\n",
       "      <td>100.0</td>\n",
       "      <td>0.0</td>\n",
       "      <td>0.0</td>\n",
       "      <td>0.0</td>\n",
       "      <td>100.0</td>\n",
       "      <td>0.0</td>\n",
       "      <td>0.0</td>\n",
       "      <td>0.0</td>\n",
       "      <td>NaN</td>\n",
       "      <td>NaN</td>\n",
       "      <td>37624.0</td>\n",
       "      <td>38787.0</td>\n",
       "      <td>1.823653e+09</td>\n",
       "      <td>Samsung</td>\n",
       "      <td>Samsung Galaxy A5 Sm-A520F</td>\n",
       "      <td>NaN</td>\n",
       "      <td>NaN</td>\n",
       "      <td>NaN</td>\n",
       "      <td>NaN</td>\n",
       "      <td>NaN</td>\n",
       "      <td>NaN</td>\n",
       "      <td>213.0</td>\n",
       "      <td>214.0</td>\n",
       "      <td>1545765.0</td>\n",
       "      <td>24420.0</td>\n",
       "      <td>1634479.0</td>\n",
       "      <td>1271433.0</td>\n",
       "      <td>3563542.0</td>\n",
       "      <td>137762.0</td>\n",
       "      <td>15854611.0</td>\n",
       "      <td>2501332.0</td>\n",
       "      <td>8198936.0</td>\n",
       "      <td>9656251.0</td>\n",
       "      <td>278082303.0</td>\n",
       "      <td>14344150.0</td>\n",
       "      <td>171744450.0</td>\n",
       "      <td>8814393.0</td>\n",
       "      <td>36749741.0</td>\n",
       "      <td>308879636.0</td>\n",
       "    </tr>\n",
       "    <tr>\n",
       "      <th>1</th>\n",
       "      <td>13114483482878900224</td>\n",
       "      <td>2019-04-09 13:04:04</td>\n",
       "      <td>235.0</td>\n",
       "      <td>2019-04-25 08:15:48</td>\n",
       "      <td>606.0</td>\n",
       "      <td>1365104.0</td>\n",
       "      <td>2.082019e+14</td>\n",
       "      <td>3.368185e+10</td>\n",
       "      <td>3.579401e+13</td>\n",
       "      <td>L77566A</td>\n",
       "      <td>65.0</td>\n",
       "      <td>5.0</td>\n",
       "      <td>16.0</td>\n",
       "      <td>26.0</td>\n",
       "      <td>NaN</td>\n",
       "      <td>NaN</td>\n",
       "      <td>100.0</td>\n",
       "      <td>0.0</td>\n",
       "      <td>0.0</td>\n",
       "      <td>0.0</td>\n",
       "      <td>100.0</td>\n",
       "      <td>0.0</td>\n",
       "      <td>0.0</td>\n",
       "      <td>0.0</td>\n",
       "      <td>NaN</td>\n",
       "      <td>NaN</td>\n",
       "      <td>168.0</td>\n",
       "      <td>3560.0</td>\n",
       "      <td>1.365104e+09</td>\n",
       "      <td>Samsung</td>\n",
       "      <td>Samsung Galaxy J5 (Sm-J530)</td>\n",
       "      <td>NaN</td>\n",
       "      <td>NaN</td>\n",
       "      <td>NaN</td>\n",
       "      <td>NaN</td>\n",
       "      <td>NaN</td>\n",
       "      <td>NaN</td>\n",
       "      <td>971.0</td>\n",
       "      <td>1022.0</td>\n",
       "      <td>1926113.0</td>\n",
       "      <td>7165.0</td>\n",
       "      <td>3493924.0</td>\n",
       "      <td>920172.0</td>\n",
       "      <td>629046.0</td>\n",
       "      <td>308339.0</td>\n",
       "      <td>20247395.0</td>\n",
       "      <td>19111729.0</td>\n",
       "      <td>18338413.0</td>\n",
       "      <td>17227132.0</td>\n",
       "      <td>608750074.0</td>\n",
       "      <td>1170709.0</td>\n",
       "      <td>526904238.0</td>\n",
       "      <td>15055145.0</td>\n",
       "      <td>53800391.0</td>\n",
       "      <td>653384965.0</td>\n",
       "    </tr>\n",
       "  </tbody>\n",
       "</table>\n",
       "</div>"
      ],
      "text/plain": [
       "              Bearer Id               Start  Start ms                 End  \\\n",
       "0  13114483460844900352 2019-04-04 12:01:18     770.0 2019-04-25 14:35:31   \n",
       "1  13114483482878900224 2019-04-09 13:04:04     235.0 2019-04-25 08:15:48   \n",
       "\n",
       "   End ms  Dur. (ms)          IMSI  MSISDN/Number          IMEI  \\\n",
       "0   662.0  1823652.0  2.082014e+14   3.366496e+10  3.552121e+13   \n",
       "1   606.0  1365104.0  2.082019e+14   3.368185e+10  3.579401e+13   \n",
       "\n",
       "  Last Location Name  Avg RTT DL (ms)  Avg RTT UL (ms)  \\\n",
       "0   9164566995485190             42.0              5.0   \n",
       "1            L77566A             65.0              5.0   \n",
       "\n",
       "   Avg Bearer TP DL (kbps)  Avg Bearer TP UL (kbps)  \\\n",
       "0                     23.0                     44.0   \n",
       "1                     16.0                     26.0   \n",
       "\n",
       "   TCP DL Retrans. Vol (Bytes)  TCP UL Retrans. Vol (Bytes)  \\\n",
       "0                          NaN                          NaN   \n",
       "1                          NaN                          NaN   \n",
       "\n",
       "   DL TP < 50 Kbps (%)  50 Kbps < DL TP < 250 Kbps (%)  \\\n",
       "0                100.0                             0.0   \n",
       "1                100.0                             0.0   \n",
       "\n",
       "   250 Kbps < DL TP < 1 Mbps (%)  DL TP > 1 Mbps (%)  UL TP < 10 Kbps (%)  \\\n",
       "0                            0.0                 0.0                100.0   \n",
       "1                            0.0                 0.0                100.0   \n",
       "\n",
       "   10 Kbps < UL TP < 50 Kbps (%)  50 Kbps < UL TP < 300 Kbps (%)  \\\n",
       "0                            0.0                             0.0   \n",
       "1                            0.0                             0.0   \n",
       "\n",
       "   UL TP > 300 Kbps (%)  HTTP DL (Bytes)  HTTP UL (Bytes)  \\\n",
       "0                   0.0              NaN              NaN   \n",
       "1                   0.0              NaN              NaN   \n",
       "\n",
       "   Activity Duration DL (ms)  Activity Duration UL (ms)   Dur. (ms).1  \\\n",
       "0                    37624.0                    38787.0  1.823653e+09   \n",
       "1                      168.0                     3560.0  1.365104e+09   \n",
       "\n",
       "  Handset Manufacturer                 Handset Type  \\\n",
       "0              Samsung   Samsung Galaxy A5 Sm-A520F   \n",
       "1              Samsung  Samsung Galaxy J5 (Sm-J530)   \n",
       "\n",
       "   Nb of sec with 125000B < Vol DL  Nb of sec with 1250B < Vol UL < 6250B  \\\n",
       "0                              NaN                                    NaN   \n",
       "1                              NaN                                    NaN   \n",
       "\n",
       "   Nb of sec with 31250B < Vol DL < 125000B  Nb of sec with 37500B < Vol UL  \\\n",
       "0                                       NaN                             NaN   \n",
       "1                                       NaN                             NaN   \n",
       "\n",
       "   Nb of sec with 6250B < Vol DL < 31250B  \\\n",
       "0                                     NaN   \n",
       "1                                     NaN   \n",
       "\n",
       "   Nb of sec with 6250B < Vol UL < 37500B  Nb of sec with Vol DL < 6250B  \\\n",
       "0                                     NaN                          213.0   \n",
       "1                                     NaN                          971.0   \n",
       "\n",
       "   Nb of sec with Vol UL < 1250B  Social Media DL (Bytes)  \\\n",
       "0                          214.0                1545765.0   \n",
       "1                         1022.0                1926113.0   \n",
       "\n",
       "   Social Media UL (Bytes)  Google DL (Bytes)  Google UL (Bytes)  \\\n",
       "0                  24420.0          1634479.0          1271433.0   \n",
       "1                   7165.0          3493924.0           920172.0   \n",
       "\n",
       "   Email DL (Bytes)  Email UL (Bytes)  Youtube DL (Bytes)  Youtube UL (Bytes)  \\\n",
       "0         3563542.0          137762.0          15854611.0           2501332.0   \n",
       "1          629046.0          308339.0          20247395.0          19111729.0   \n",
       "\n",
       "   Netflix DL (Bytes)  Netflix UL (Bytes)  Gaming DL (Bytes)  \\\n",
       "0           8198936.0           9656251.0        278082303.0   \n",
       "1          18338413.0          17227132.0        608750074.0   \n",
       "\n",
       "   Gaming UL (Bytes)  Other DL (Bytes)  Other UL (Bytes)  Total UL (Bytes)  \\\n",
       "0         14344150.0       171744450.0         8814393.0        36749741.0   \n",
       "1          1170709.0       526904238.0        15055145.0        53800391.0   \n",
       "\n",
       "   Total DL (Bytes)  \n",
       "0       308879636.0  \n",
       "1       653384965.0  "
      ]
     },
     "execution_count": 4,
     "metadata": {},
     "output_type": "execute_result"
    }
   ],
   "source": [
    "data.head(2)"
   ]
  },
  {
   "cell_type": "code",
   "execution_count": 5,
   "metadata": {},
   "outputs": [
    {
     "data": {
      "text/plain": [
       "Index(['Bearer Id', 'Start', 'Start ms', 'End', 'End ms', 'Dur. (ms)', 'IMSI',\n",
       "       'MSISDN/Number', 'IMEI', 'Last Location Name', 'Avg RTT DL (ms)',\n",
       "       'Avg RTT UL (ms)', 'Avg Bearer TP DL (kbps)', 'Avg Bearer TP UL (kbps)',\n",
       "       'TCP DL Retrans. Vol (Bytes)', 'TCP UL Retrans. Vol (Bytes)',\n",
       "       'DL TP < 50 Kbps (%)', '50 Kbps < DL TP < 250 Kbps (%)',\n",
       "       '250 Kbps < DL TP < 1 Mbps (%)', 'DL TP > 1 Mbps (%)',\n",
       "       'UL TP < 10 Kbps (%)', '10 Kbps < UL TP < 50 Kbps (%)',\n",
       "       '50 Kbps < UL TP < 300 Kbps (%)', 'UL TP > 300 Kbps (%)',\n",
       "       'HTTP DL (Bytes)', 'HTTP UL (Bytes)', 'Activity Duration DL (ms)',\n",
       "       'Activity Duration UL (ms)', 'Dur. (ms).1', 'Handset Manufacturer',\n",
       "       'Handset Type', 'Nb of sec with 125000B < Vol DL',\n",
       "       'Nb of sec with 1250B < Vol UL < 6250B',\n",
       "       'Nb of sec with 31250B < Vol DL < 125000B',\n",
       "       'Nb of sec with 37500B < Vol UL',\n",
       "       'Nb of sec with 6250B < Vol DL < 31250B',\n",
       "       'Nb of sec with 6250B < Vol UL < 37500B',\n",
       "       'Nb of sec with Vol DL < 6250B', 'Nb of sec with Vol UL < 1250B',\n",
       "       'Social Media DL (Bytes)', 'Social Media UL (Bytes)',\n",
       "       'Google DL (Bytes)', 'Google UL (Bytes)', 'Email DL (Bytes)',\n",
       "       'Email UL (Bytes)', 'Youtube DL (Bytes)', 'Youtube UL (Bytes)',\n",
       "       'Netflix DL (Bytes)', 'Netflix UL (Bytes)', 'Gaming DL (Bytes)',\n",
       "       'Gaming UL (Bytes)', 'Other DL (Bytes)', 'Other UL (Bytes)',\n",
       "       'Total UL (Bytes)', 'Total DL (Bytes)'],\n",
       "      dtype='object')"
      ]
     },
     "execution_count": 5,
     "metadata": {},
     "output_type": "execute_result"
    }
   ],
   "source": [
    "data.columns"
   ]
  },
  {
   "cell_type": "code",
   "execution_count": 6,
   "metadata": {},
   "outputs": [
    {
     "name": "stdout",
     "output_type": "stream",
     "text": [
      "<class 'pandas.core.frame.DataFrame'>\n",
      "RangeIndex: 150001 entries, 0 to 150000\n",
      "Data columns (total 55 columns):\n",
      "Bearer Id                                   150001 non-null object\n",
      "Start                                       150000 non-null datetime64[ns]\n",
      "Start ms                                    150000 non-null float64\n",
      "End                                         150000 non-null datetime64[ns]\n",
      "End ms                                      150000 non-null float64\n",
      "Dur. (ms)                                   150000 non-null float64\n",
      "IMSI                                        149431 non-null float64\n",
      "MSISDN/Number                               148935 non-null float64\n",
      "IMEI                                        149429 non-null float64\n",
      "Last Location Name                          148848 non-null object\n",
      "Avg RTT DL (ms)                             122172 non-null float64\n",
      "Avg RTT UL (ms)                             122189 non-null float64\n",
      "Avg Bearer TP DL (kbps)                     150000 non-null float64\n",
      "Avg Bearer TP UL (kbps)                     150000 non-null float64\n",
      "TCP DL Retrans. Vol (Bytes)                 61855 non-null float64\n",
      "TCP UL Retrans. Vol (Bytes)                 53352 non-null float64\n",
      "DL TP < 50 Kbps (%)                         149247 non-null float64\n",
      "50 Kbps < DL TP < 250 Kbps (%)              149247 non-null float64\n",
      "250 Kbps < DL TP < 1 Mbps (%)               149247 non-null float64\n",
      "DL TP > 1 Mbps (%)                          149247 non-null float64\n",
      "UL TP < 10 Kbps (%)                         149209 non-null float64\n",
      "10 Kbps < UL TP < 50 Kbps (%)               149209 non-null float64\n",
      "50 Kbps < UL TP < 300 Kbps (%)              149209 non-null float64\n",
      "UL TP > 300 Kbps (%)                        149209 non-null float64\n",
      "HTTP DL (Bytes)                             68527 non-null float64\n",
      "HTTP UL (Bytes)                             68191 non-null float64\n",
      "Activity Duration DL (ms)                   150000 non-null float64\n",
      "Activity Duration UL (ms)                   150000 non-null float64\n",
      "Dur. (ms).1                                 150000 non-null float64\n",
      "Handset Manufacturer                        149429 non-null object\n",
      "Handset Type                                149429 non-null object\n",
      "Nb of sec with 125000B < Vol DL             52463 non-null float64\n",
      "Nb of sec with 1250B < Vol UL < 6250B       57107 non-null float64\n",
      "Nb of sec with 31250B < Vol DL < 125000B    56415 non-null float64\n",
      "Nb of sec with 37500B < Vol UL              19747 non-null float64\n",
      "Nb of sec with 6250B < Vol DL < 31250B      61684 non-null float64\n",
      "Nb of sec with 6250B < Vol UL < 37500B      38158 non-null float64\n",
      "Nb of sec with Vol DL < 6250B               149246 non-null float64\n",
      "Nb of sec with Vol UL < 1250B               149208 non-null float64\n",
      "Social Media DL (Bytes)                     150001 non-null float64\n",
      "Social Media UL (Bytes)                     150001 non-null float64\n",
      "Google DL (Bytes)                           150001 non-null float64\n",
      "Google UL (Bytes)                           150001 non-null float64\n",
      "Email DL (Bytes)                            150001 non-null float64\n",
      "Email UL (Bytes)                            150001 non-null float64\n",
      "Youtube DL (Bytes)                          150001 non-null float64\n",
      "Youtube UL (Bytes)                          150001 non-null float64\n",
      "Netflix DL (Bytes)                          150001 non-null float64\n",
      "Netflix UL (Bytes)                          150001 non-null float64\n",
      "Gaming DL (Bytes)                           150001 non-null float64\n",
      "Gaming UL (Bytes)                           150001 non-null float64\n",
      "Other DL (Bytes)                            150001 non-null float64\n",
      "Other UL (Bytes)                            150001 non-null float64\n",
      "Total UL (Bytes)                            150000 non-null float64\n",
      "Total DL (Bytes)                            150000 non-null float64\n",
      "dtypes: datetime64[ns](2), float64(49), object(4)\n",
      "memory usage: 62.9+ MB\n"
     ]
    }
   ],
   "source": [
    "data.info()"
   ]
  },
  {
   "cell_type": "code",
   "execution_count": 7,
   "metadata": {},
   "outputs": [
    {
     "data": {
      "text/plain": [
       "Bearer Id                                    0.000000\n",
       "Start                                        0.000667\n",
       "Start ms                                     0.000667\n",
       "End                                          0.000667\n",
       "End ms                                       0.000667\n",
       "Dur. (ms)                                    0.000667\n",
       "IMSI                                         0.379997\n",
       "MSISDN/Number                                0.710662\n",
       "IMEI                                         0.381331\n",
       "Last Location Name                           0.768662\n",
       "Avg RTT DL (ms)                             18.552543\n",
       "Avg RTT UL (ms)                             18.541210\n",
       "Avg Bearer TP DL (kbps)                      0.000667\n",
       "Avg Bearer TP UL (kbps)                      0.000667\n",
       "TCP DL Retrans. Vol (Bytes)                 58.763608\n",
       "TCP UL Retrans. Vol (Bytes)                 64.432237\n",
       "DL TP < 50 Kbps (%)                          0.502663\n",
       "50 Kbps < DL TP < 250 Kbps (%)               0.502663\n",
       "250 Kbps < DL TP < 1 Mbps (%)                0.502663\n",
       "DL TP > 1 Mbps (%)                           0.502663\n",
       "UL TP < 10 Kbps (%)                          0.527996\n",
       "10 Kbps < UL TP < 50 Kbps (%)                0.527996\n",
       "50 Kbps < UL TP < 300 Kbps (%)               0.527996\n",
       "UL TP > 300 Kbps (%)                         0.527996\n",
       "HTTP DL (Bytes)                             54.315638\n",
       "HTTP UL (Bytes)                             54.539636\n",
       "Activity Duration DL (ms)                    0.000667\n",
       "Activity Duration UL (ms)                    0.000667\n",
       "Dur. (ms).1                                  0.000667\n",
       "Handset Manufacturer                         0.381331\n",
       "Handset Type                                 0.381331\n",
       "Nb of sec with 125000B < Vol DL             65.024900\n",
       "Nb of sec with 1250B < Vol UL < 6250B       61.928920\n",
       "Nb of sec with 31250B < Vol DL < 125000B    62.390251\n",
       "Nb of sec with 37500B < Vol UL              86.835421\n",
       "Nb of sec with 6250B < Vol DL < 31250B      58.877607\n",
       "Nb of sec with 6250B < Vol UL < 37500B      74.561503\n",
       "Nb of sec with Vol DL < 6250B                0.503330\n",
       "Nb of sec with Vol UL < 1250B                0.528663\n",
       "Social Media DL (Bytes)                      0.000000\n",
       "Social Media UL (Bytes)                      0.000000\n",
       "Google DL (Bytes)                            0.000000\n",
       "Google UL (Bytes)                            0.000000\n",
       "Email DL (Bytes)                             0.000000\n",
       "Email UL (Bytes)                             0.000000\n",
       "Youtube DL (Bytes)                           0.000000\n",
       "Youtube UL (Bytes)                           0.000000\n",
       "Netflix DL (Bytes)                           0.000000\n",
       "Netflix UL (Bytes)                           0.000000\n",
       "Gaming DL (Bytes)                            0.000000\n",
       "Gaming UL (Bytes)                            0.000000\n",
       "Other DL (Bytes)                             0.000000\n",
       "Other UL (Bytes)                             0.000000\n",
       "Total UL (Bytes)                             0.000667\n",
       "Total DL (Bytes)                             0.000667\n",
       "dtype: float64"
      ]
     },
     "execution_count": 7,
     "metadata": {},
     "output_type": "execute_result"
    }
   ],
   "source": [
    "data.isna().sum()/len(data)*100"
   ]
  },
  {
   "cell_type": "markdown",
   "metadata": {},
   "source": [
    "## Top 10 handset used by the customers\n",
    "\n",
    "According to the table below, Huawei B5285-23A is the most used handset and the 9 others are as shown in their order of frequency. "
   ]
  },
  {
   "cell_type": "code",
   "execution_count": 8,
   "metadata": {},
   "outputs": [
    {
     "data": {
      "text/plain": [
       "Huawei B528S-23A                19752\n",
       "Apple iPhone 6S (A1688)          9419\n",
       "Apple iPhone 6 (A1586)           9023\n",
       "undefined                        8987\n",
       "Apple iPhone 7 (A1778)           6326\n",
       "Apple iPhone Se (A1723)          5187\n",
       "Apple iPhone 8 (A1905)           4993\n",
       "Apple iPhone Xr (A2105)          4568\n",
       "Samsung Galaxy S8 (Sm-G950F)     4520\n",
       "Apple iPhone X (A1901)           3813\n",
       "Samsung Galaxy A5 Sm-A520F       3724\n",
       "Name: Handset Type, dtype: int64"
      ]
     },
     "execution_count": 8,
     "metadata": {},
     "output_type": "execute_result"
    }
   ],
   "source": [
    "data['Handset Type'].value_counts().head(11)"
   ]
  },
  {
   "cell_type": "markdown",
   "metadata": {},
   "source": [
    "## Top 3 handset Manufacturers\n",
    "Apple, Samsung and Huawei are the 3 most used manufacturers in that order"
   ]
  },
  {
   "cell_type": "code",
   "execution_count": 9,
   "metadata": {},
   "outputs": [
    {
     "data": {
      "text/plain": [
       "Apple      59565\n",
       "Samsung    40839\n",
       "Huawei     34423\n",
       "Name: Handset Manufacturer, dtype: int64"
      ]
     },
     "execution_count": 9,
     "metadata": {},
     "output_type": "execute_result"
    }
   ],
   "source": [
    "data['Handset Manufacturer'].value_counts().head(3)"
   ]
  },
  {
   "cell_type": "markdown",
   "metadata": {},
   "source": [
    "## Top 5 handset per handset manufacturers"
   ]
  },
  {
   "cell_type": "code",
   "execution_count": 53,
   "metadata": {},
   "outputs": [
    {
     "data": {
      "text/plain": [
       "Huawei B528S-23A           19752\n",
       "Apple iPhone 6S (A1688)     9419\n",
       "Apple iPhone 6 (A1586)      9023\n",
       "Apple iPhone 7 (A1778)      6326\n",
       "Apple iPhone Se (A1723)     5187\n",
       "Name: Handset Type, dtype: int64"
      ]
     },
     "execution_count": 53,
     "metadata": {},
     "output_type": "execute_result"
    }
   ],
   "source": [
    "indx = data[(data['Handset Manufacturer']=='Apple') |  (data['Handset Manufacturer']=='Samsung') | (data['Handset Manufacturer'] == 'Huawei')].index\n",
    "data.loc[indx, 'Handset Type'].value_counts().head(5)"
   ]
  },
  {
   "cell_type": "markdown",
   "metadata": {},
   "source": [
    "## User Attribute across applications"
   ]
  },
  {
   "cell_type": "code",
   "execution_count": 10,
   "metadata": {},
   "outputs": [],
   "source": [
    "import statsmodels.api as sm\n",
    "from statsmodels.formula.api import ols"
   ]
  },
  {
   "cell_type": "code",
   "execution_count": 11,
   "metadata": {},
   "outputs": [
    {
     "data": {
      "text/html": [
       "<div>\n",
       "<style scoped>\n",
       "    .dataframe tbody tr th:only-of-type {\n",
       "        vertical-align: middle;\n",
       "    }\n",
       "\n",
       "    .dataframe tbody tr th {\n",
       "        vertical-align: top;\n",
       "    }\n",
       "\n",
       "    .dataframe thead th {\n",
       "        text-align: right;\n",
       "    }\n",
       "</style>\n",
       "<table border=\"1\" class=\"dataframe\">\n",
       "  <thead>\n",
       "    <tr style=\"text-align: right;\">\n",
       "      <th></th>\n",
       "      <th>Bearer Id</th>\n",
       "      <th>Start</th>\n",
       "      <th>Start ms</th>\n",
       "      <th>End</th>\n",
       "      <th>End ms</th>\n",
       "      <th>Dur. (ms)</th>\n",
       "      <th>IMSI</th>\n",
       "      <th>MSISDN/Number</th>\n",
       "      <th>IMEI</th>\n",
       "      <th>Last Location Name</th>\n",
       "      <th>Avg RTT DL (ms)</th>\n",
       "      <th>Avg RTT UL (ms)</th>\n",
       "      <th>Avg Bearer TP DL (kbps)</th>\n",
       "      <th>Avg Bearer TP UL (kbps)</th>\n",
       "      <th>TCP DL Retrans. Vol (Bytes)</th>\n",
       "      <th>TCP UL Retrans. Vol (Bytes)</th>\n",
       "      <th>DL TP &lt; 50 Kbps (%)</th>\n",
       "      <th>50 Kbps &lt; DL TP &lt; 250 Kbps (%)</th>\n",
       "      <th>250 Kbps &lt; DL TP &lt; 1 Mbps (%)</th>\n",
       "      <th>DL TP &gt; 1 Mbps (%)</th>\n",
       "      <th>UL TP &lt; 10 Kbps (%)</th>\n",
       "      <th>10 Kbps &lt; UL TP &lt; 50 Kbps (%)</th>\n",
       "      <th>50 Kbps &lt; UL TP &lt; 300 Kbps (%)</th>\n",
       "      <th>UL TP &gt; 300 Kbps (%)</th>\n",
       "      <th>HTTP DL (Bytes)</th>\n",
       "      <th>HTTP UL (Bytes)</th>\n",
       "      <th>Activity Duration DL (ms)</th>\n",
       "      <th>Activity Duration UL (ms)</th>\n",
       "      <th>Dur. (ms).1</th>\n",
       "      <th>Handset Manufacturer</th>\n",
       "      <th>Handset Type</th>\n",
       "      <th>Nb of sec with 125000B &lt; Vol DL</th>\n",
       "      <th>Nb of sec with 1250B &lt; Vol UL &lt; 6250B</th>\n",
       "      <th>Nb of sec with 31250B &lt; Vol DL &lt; 125000B</th>\n",
       "      <th>Nb of sec with 37500B &lt; Vol UL</th>\n",
       "      <th>Nb of sec with 6250B &lt; Vol DL &lt; 31250B</th>\n",
       "      <th>Nb of sec with 6250B &lt; Vol UL &lt; 37500B</th>\n",
       "      <th>Nb of sec with Vol DL &lt; 6250B</th>\n",
       "      <th>Nb of sec with Vol UL &lt; 1250B</th>\n",
       "      <th>Social Media DL (Bytes)</th>\n",
       "      <th>Social Media UL (Bytes)</th>\n",
       "      <th>Google DL (Bytes)</th>\n",
       "      <th>Google UL (Bytes)</th>\n",
       "      <th>Email DL (Bytes)</th>\n",
       "      <th>Email UL (Bytes)</th>\n",
       "      <th>Youtube DL (Bytes)</th>\n",
       "      <th>Youtube UL (Bytes)</th>\n",
       "      <th>Netflix DL (Bytes)</th>\n",
       "      <th>Netflix UL (Bytes)</th>\n",
       "      <th>Gaming DL (Bytes)</th>\n",
       "      <th>Gaming UL (Bytes)</th>\n",
       "      <th>Other DL (Bytes)</th>\n",
       "      <th>Other UL (Bytes)</th>\n",
       "      <th>Total UL (Bytes)</th>\n",
       "      <th>Total DL (Bytes)</th>\n",
       "    </tr>\n",
       "  </thead>\n",
       "  <tbody>\n",
       "    <tr>\n",
       "      <th>0</th>\n",
       "      <td>13114483460844900352</td>\n",
       "      <td>2019-04-04 12:01:18</td>\n",
       "      <td>770.0</td>\n",
       "      <td>2019-04-25 14:35:31</td>\n",
       "      <td>662.0</td>\n",
       "      <td>1823652.0</td>\n",
       "      <td>2.082014e+14</td>\n",
       "      <td>3.366496e+10</td>\n",
       "      <td>3.552121e+13</td>\n",
       "      <td>9164566995485190</td>\n",
       "      <td>42.0</td>\n",
       "      <td>5.0</td>\n",
       "      <td>23.0</td>\n",
       "      <td>44.0</td>\n",
       "      <td>NaN</td>\n",
       "      <td>NaN</td>\n",
       "      <td>100.0</td>\n",
       "      <td>0.0</td>\n",
       "      <td>0.0</td>\n",
       "      <td>0.0</td>\n",
       "      <td>100.0</td>\n",
       "      <td>0.0</td>\n",
       "      <td>0.0</td>\n",
       "      <td>0.0</td>\n",
       "      <td>NaN</td>\n",
       "      <td>NaN</td>\n",
       "      <td>37624.0</td>\n",
       "      <td>38787.0</td>\n",
       "      <td>1.823653e+09</td>\n",
       "      <td>Samsung</td>\n",
       "      <td>Samsung Galaxy A5 Sm-A520F</td>\n",
       "      <td>NaN</td>\n",
       "      <td>NaN</td>\n",
       "      <td>NaN</td>\n",
       "      <td>NaN</td>\n",
       "      <td>NaN</td>\n",
       "      <td>NaN</td>\n",
       "      <td>213.0</td>\n",
       "      <td>214.0</td>\n",
       "      <td>1545765.0</td>\n",
       "      <td>24420.0</td>\n",
       "      <td>1634479.0</td>\n",
       "      <td>1271433.0</td>\n",
       "      <td>3563542.0</td>\n",
       "      <td>137762.0</td>\n",
       "      <td>15854611.0</td>\n",
       "      <td>2501332.0</td>\n",
       "      <td>8198936.0</td>\n",
       "      <td>9656251.0</td>\n",
       "      <td>278082303.0</td>\n",
       "      <td>14344150.0</td>\n",
       "      <td>171744450.0</td>\n",
       "      <td>8814393.0</td>\n",
       "      <td>36749741.0</td>\n",
       "      <td>308879636.0</td>\n",
       "    </tr>\n",
       "    <tr>\n",
       "      <th>1</th>\n",
       "      <td>13114483482878900224</td>\n",
       "      <td>2019-04-09 13:04:04</td>\n",
       "      <td>235.0</td>\n",
       "      <td>2019-04-25 08:15:48</td>\n",
       "      <td>606.0</td>\n",
       "      <td>1365104.0</td>\n",
       "      <td>2.082019e+14</td>\n",
       "      <td>3.368185e+10</td>\n",
       "      <td>3.579401e+13</td>\n",
       "      <td>L77566A</td>\n",
       "      <td>65.0</td>\n",
       "      <td>5.0</td>\n",
       "      <td>16.0</td>\n",
       "      <td>26.0</td>\n",
       "      <td>NaN</td>\n",
       "      <td>NaN</td>\n",
       "      <td>100.0</td>\n",
       "      <td>0.0</td>\n",
       "      <td>0.0</td>\n",
       "      <td>0.0</td>\n",
       "      <td>100.0</td>\n",
       "      <td>0.0</td>\n",
       "      <td>0.0</td>\n",
       "      <td>0.0</td>\n",
       "      <td>NaN</td>\n",
       "      <td>NaN</td>\n",
       "      <td>168.0</td>\n",
       "      <td>3560.0</td>\n",
       "      <td>1.365104e+09</td>\n",
       "      <td>Samsung</td>\n",
       "      <td>Samsung Galaxy J5 (Sm-J530)</td>\n",
       "      <td>NaN</td>\n",
       "      <td>NaN</td>\n",
       "      <td>NaN</td>\n",
       "      <td>NaN</td>\n",
       "      <td>NaN</td>\n",
       "      <td>NaN</td>\n",
       "      <td>971.0</td>\n",
       "      <td>1022.0</td>\n",
       "      <td>1926113.0</td>\n",
       "      <td>7165.0</td>\n",
       "      <td>3493924.0</td>\n",
       "      <td>920172.0</td>\n",
       "      <td>629046.0</td>\n",
       "      <td>308339.0</td>\n",
       "      <td>20247395.0</td>\n",
       "      <td>19111729.0</td>\n",
       "      <td>18338413.0</td>\n",
       "      <td>17227132.0</td>\n",
       "      <td>608750074.0</td>\n",
       "      <td>1170709.0</td>\n",
       "      <td>526904238.0</td>\n",
       "      <td>15055145.0</td>\n",
       "      <td>53800391.0</td>\n",
       "      <td>653384965.0</td>\n",
       "    </tr>\n",
       "  </tbody>\n",
       "</table>\n",
       "</div>"
      ],
      "text/plain": [
       "              Bearer Id               Start  Start ms                 End  \\\n",
       "0  13114483460844900352 2019-04-04 12:01:18     770.0 2019-04-25 14:35:31   \n",
       "1  13114483482878900224 2019-04-09 13:04:04     235.0 2019-04-25 08:15:48   \n",
       "\n",
       "   End ms  Dur. (ms)          IMSI  MSISDN/Number          IMEI  \\\n",
       "0   662.0  1823652.0  2.082014e+14   3.366496e+10  3.552121e+13   \n",
       "1   606.0  1365104.0  2.082019e+14   3.368185e+10  3.579401e+13   \n",
       "\n",
       "  Last Location Name  Avg RTT DL (ms)  Avg RTT UL (ms)  \\\n",
       "0   9164566995485190             42.0              5.0   \n",
       "1            L77566A             65.0              5.0   \n",
       "\n",
       "   Avg Bearer TP DL (kbps)  Avg Bearer TP UL (kbps)  \\\n",
       "0                     23.0                     44.0   \n",
       "1                     16.0                     26.0   \n",
       "\n",
       "   TCP DL Retrans. Vol (Bytes)  TCP UL Retrans. Vol (Bytes)  \\\n",
       "0                          NaN                          NaN   \n",
       "1                          NaN                          NaN   \n",
       "\n",
       "   DL TP < 50 Kbps (%)  50 Kbps < DL TP < 250 Kbps (%)  \\\n",
       "0                100.0                             0.0   \n",
       "1                100.0                             0.0   \n",
       "\n",
       "   250 Kbps < DL TP < 1 Mbps (%)  DL TP > 1 Mbps (%)  UL TP < 10 Kbps (%)  \\\n",
       "0                            0.0                 0.0                100.0   \n",
       "1                            0.0                 0.0                100.0   \n",
       "\n",
       "   10 Kbps < UL TP < 50 Kbps (%)  50 Kbps < UL TP < 300 Kbps (%)  \\\n",
       "0                            0.0                             0.0   \n",
       "1                            0.0                             0.0   \n",
       "\n",
       "   UL TP > 300 Kbps (%)  HTTP DL (Bytes)  HTTP UL (Bytes)  \\\n",
       "0                   0.0              NaN              NaN   \n",
       "1                   0.0              NaN              NaN   \n",
       "\n",
       "   Activity Duration DL (ms)  Activity Duration UL (ms)   Dur. (ms).1  \\\n",
       "0                    37624.0                    38787.0  1.823653e+09   \n",
       "1                      168.0                     3560.0  1.365104e+09   \n",
       "\n",
       "  Handset Manufacturer                 Handset Type  \\\n",
       "0              Samsung   Samsung Galaxy A5 Sm-A520F   \n",
       "1              Samsung  Samsung Galaxy J5 (Sm-J530)   \n",
       "\n",
       "   Nb of sec with 125000B < Vol DL  Nb of sec with 1250B < Vol UL < 6250B  \\\n",
       "0                              NaN                                    NaN   \n",
       "1                              NaN                                    NaN   \n",
       "\n",
       "   Nb of sec with 31250B < Vol DL < 125000B  Nb of sec with 37500B < Vol UL  \\\n",
       "0                                       NaN                             NaN   \n",
       "1                                       NaN                             NaN   \n",
       "\n",
       "   Nb of sec with 6250B < Vol DL < 31250B  \\\n",
       "0                                     NaN   \n",
       "1                                     NaN   \n",
       "\n",
       "   Nb of sec with 6250B < Vol UL < 37500B  Nb of sec with Vol DL < 6250B  \\\n",
       "0                                     NaN                          213.0   \n",
       "1                                     NaN                          971.0   \n",
       "\n",
       "   Nb of sec with Vol UL < 1250B  Social Media DL (Bytes)  \\\n",
       "0                          214.0                1545765.0   \n",
       "1                         1022.0                1926113.0   \n",
       "\n",
       "   Social Media UL (Bytes)  Google DL (Bytes)  Google UL (Bytes)  \\\n",
       "0                  24420.0          1634479.0          1271433.0   \n",
       "1                   7165.0          3493924.0           920172.0   \n",
       "\n",
       "   Email DL (Bytes)  Email UL (Bytes)  Youtube DL (Bytes)  Youtube UL (Bytes)  \\\n",
       "0         3563542.0          137762.0          15854611.0           2501332.0   \n",
       "1          629046.0          308339.0          20247395.0          19111729.0   \n",
       "\n",
       "   Netflix DL (Bytes)  Netflix UL (Bytes)  Gaming DL (Bytes)  \\\n",
       "0           8198936.0           9656251.0        278082303.0   \n",
       "1          18338413.0          17227132.0        608750074.0   \n",
       "\n",
       "   Gaming UL (Bytes)  Other DL (Bytes)  Other UL (Bytes)  Total UL (Bytes)  \\\n",
       "0         14344150.0       171744450.0         8814393.0        36749741.0   \n",
       "1          1170709.0       526904238.0        15055145.0        53800391.0   \n",
       "\n",
       "   Total DL (Bytes)  \n",
       "0       308879636.0  \n",
       "1       653384965.0  "
      ]
     },
     "execution_count": 11,
     "metadata": {},
     "output_type": "execute_result"
    }
   ],
   "source": [
    "data.head(2)"
   ]
  },
  {
   "cell_type": "code",
   "execution_count": 12,
   "metadata": {},
   "outputs": [
    {
     "data": {
      "text/plain": [
       "134709"
      ]
     },
     "execution_count": 12,
     "metadata": {},
     "output_type": "execute_result"
    }
   ],
   "source": [
    "data['Bearer Id'].nunique()  # Bearer Id is not unique"
   ]
  },
  {
   "cell_type": "code",
   "execution_count": 13,
   "metadata": {},
   "outputs": [
    {
     "data": {
      "text/plain": [
       "MSISDN/Number\n",
       "3.362578e+10    18553754.0\n",
       "3.361489e+10     9966898.0\n",
       "3.376054e+10     9279434.0\n",
       "3.362632e+10     8791927.0\n",
       "3.366716e+10     8744914.0\n",
       "3.366284e+10     6614270.0\n",
       "3.366469e+10     6288730.0\n",
       "3.360313e+10     6287761.0\n",
       "3.366746e+10     5649882.0\n",
       "3.376041e+10     5321667.0\n",
       "Name: Dur. (ms), dtype: float64"
      ]
     },
     "execution_count": 13,
     "metadata": {},
     "output_type": "execute_result"
    }
   ],
   "source": [
    "data.groupby('MSISDN/Number')['Dur. (ms)'].sum().sort_values(ascending = False).head(10)"
   ]
  },
  {
   "cell_type": "code",
   "execution_count": 14,
   "metadata": {},
   "outputs": [
    {
     "data": {
      "text/plain": [
       "MSISDN/Number\n",
       "3.362578e+10    729577380.0\n",
       "3.376054e+10    703478581.0\n",
       "3.361489e+10    689483001.0\n",
       "3.362632e+10    669650721.0\n",
       "3.365973e+10    624260321.0\n",
       "3.367588e+10    581568792.0\n",
       "3.366716e+10    566326364.0\n",
       "3.369879e+10    530343105.0\n",
       "3.376041e+10    521518890.0\n",
       "3.376127e+10    496467102.0\n",
       "3.369876e+10    480505985.0\n",
       "3.365836e+10    480094477.0\n",
       "3.366471e+10    471244453.0\n",
       "3.365826e+10    469872921.0\n",
       "3.378632e+10    466330265.0\n",
       "3.366508e+10    457112993.0\n",
       "3.362708e+10    445251947.0\n",
       "3.360313e+10    435587631.0\n",
       "3.362695e+10    435495985.0\n",
       "3.363004e+10    431929587.0\n",
       "Name: Total UL (Bytes), dtype: float64"
      ]
     },
     "execution_count": 14,
     "metadata": {},
     "output_type": "execute_result"
    }
   ],
   "source": [
    "data.groupby('MSISDN/Number')['Total UL (Bytes)'].sum().sort_values(ascending = False).head(20)"
   ]
  },
  {
   "cell_type": "code",
   "execution_count": 15,
   "metadata": {},
   "outputs": [
    {
     "data": {
      "text/plain": [
       "MSISDN/Number\n",
       "3.361489e+10    8.156743e+09\n",
       "3.376054e+10    7.811295e+09\n",
       "3.362578e+10    7.770043e+09\n",
       "3.367588e+10    7.309542e+09\n",
       "3.362632e+10    7.301517e+09\n",
       "3.365973e+10    7.081602e+09\n",
       "3.366646e+10    6.903440e+09\n",
       "3.376041e+10    6.610852e+09\n",
       "3.366471e+10    6.400774e+09\n",
       "3.369879e+10    6.010556e+09\n",
       "3.365836e+10    5.972303e+09\n",
       "3.369876e+10    5.391757e+09\n",
       "3.362708e+10    5.309479e+09\n",
       "3.366514e+10    5.296297e+09\n",
       "3.366469e+10    5.279827e+09\n",
       "3.365826e+10    5.205334e+09\n",
       "3.361923e+10    5.194723e+09\n",
       "3.378632e+10    5.155901e+09\n",
       "3.360452e+10    5.096079e+09\n",
       "3.363004e+10    5.062212e+09\n",
       "Name: Total DL (Bytes), dtype: float64"
      ]
     },
     "execution_count": 15,
     "metadata": {},
     "output_type": "execute_result"
    }
   ],
   "source": [
    "data.groupby('MSISDN/Number')['Total DL (Bytes)'].sum().sort_values(ascending = False).head(20)"
   ]
  },
  {
   "cell_type": "code",
   "execution_count": 16,
   "metadata": {},
   "outputs": [
    {
     "data": {
      "text/plain": [
       "MSISDN/Number\n",
       "3.362632e+10    42743837.0\n",
       "3.376054e+10    39297646.0\n",
       "3.365973e+10    34900444.0\n",
       "3.361489e+10    27749744.0\n",
       "3.362578e+10    26564121.0\n",
       "3.366716e+10    23753753.0\n",
       "3.378632e+10    23568655.0\n",
       "3.366907e+10    23477047.0\n",
       "3.360313e+10    22776679.0\n",
       "3.365849e+10    22695673.0\n",
       "3.366553e+10    22240996.0\n",
       "3.366159e+10    22079012.0\n",
       "3.365826e+10    21414760.0\n",
       "3.365936e+10    20912082.0\n",
       "3.367650e+10    20679096.0\n",
       "3.376041e+10    20515774.0\n",
       "3.365982e+10    19253794.0\n",
       "3.366471e+10    19035729.0\n",
       "3.376276e+10    18878714.0\n",
       "3.366025e+10    18786395.0\n",
       "Name: Social Media DL (Bytes), dtype: float64"
      ]
     },
     "execution_count": 16,
     "metadata": {},
     "output_type": "execute_result"
    }
   ],
   "source": [
    "data.groupby('MSISDN/Number')['Social Media DL (Bytes)'].sum().sort_values(ascending = False).head(20)"
   ]
  },
  {
   "cell_type": "code",
   "execution_count": 17,
   "metadata": {},
   "outputs": [
    {
     "data": {
      "text/plain": [
       "MSISDN/Number\n",
       "3.362632e+10    116106455.0\n",
       "3.362578e+10    107904739.0\n",
       "3.361489e+10     93941708.0\n",
       "3.365973e+10     90958549.0\n",
       "3.376054e+10     88626532.0\n",
       "3.367588e+10     83002994.0\n",
       "3.378632e+10     78819810.0\n",
       "3.360313e+10     73942055.0\n",
       "3.376127e+10     72949803.0\n",
       "3.366716e+10     71707826.0\n",
       "3.366021e+10     71421756.0\n",
       "3.366027e+10     70599200.0\n",
       "3.369876e+10     69459339.0\n",
       "3.369900e+10     69120522.0\n",
       "3.365936e+10     65070647.0\n",
       "3.366471e+10     64946017.0\n",
       "3.366301e+10     64742614.0\n",
       "3.365922e+10     64331729.0\n",
       "3.366508e+10     63501272.0\n",
       "3.365982e+10     63171540.0\n",
       "Name: Google DL (Bytes), dtype: float64"
      ]
     },
     "execution_count": 17,
     "metadata": {},
     "output_type": "execute_result"
    }
   ],
   "source": [
    "data.groupby('MSISDN/Number')['Google DL (Bytes)'].sum().sort_values(ascending = False).head(20)"
   ]
  },
  {
   "cell_type": "markdown",
   "metadata": {},
   "source": [
    "## Position and Dispersion for Variable\n",
    "Please, complete this section with other variables used in this research"
   ]
  },
  {
   "cell_type": "code",
   "execution_count": 45,
   "metadata": {},
   "outputs": [
    {
     "data": {
      "text/plain": [
       "count     150001\n",
       "unique    134709\n",
       "top             \n",
       "freq         991\n",
       "Name: Bearer Id, dtype: object"
      ]
     },
     "execution_count": 45,
     "metadata": {},
     "output_type": "execute_result"
    }
   ],
   "source": [
    "data['Bearer Id'].describe()"
   ]
  },
  {
   "cell_type": "code",
   "execution_count": 18,
   "metadata": {},
   "outputs": [
    {
     "data": {
      "text/plain": [
       "count    1.500010e+05\n",
       "mean     1.795322e+06\n",
       "std      1.035482e+06\n",
       "min      1.200000e+01\n",
       "25%      8.991480e+05\n",
       "50%      1.794369e+06\n",
       "75%      2.694938e+06\n",
       "max      3.586064e+06\n",
       "Name: Social Media DL (Bytes), dtype: float64"
      ]
     },
     "execution_count": 18,
     "metadata": {},
     "output_type": "execute_result"
    }
   ],
   "source": [
    "data['Social Media DL (Bytes)'].describe()"
   ]
  },
  {
   "cell_type": "code",
   "execution_count": 47,
   "metadata": {},
   "outputs": [
    {
     "data": {
      "text/plain": [
       "count    150001.000000\n",
       "mean      32928.434380\n",
       "std       19006.178256\n",
       "min           0.000000\n",
       "25%       16448.000000\n",
       "50%       32920.000000\n",
       "75%       49334.000000\n",
       "max       65870.000000\n",
       "Name: Social Media UL (Bytes), dtype: float64"
      ]
     },
     "execution_count": 47,
     "metadata": {},
     "output_type": "execute_result"
    }
   ],
   "source": [
    "data['Social Media UL (Bytes)'].describe()"
   ]
  },
  {
   "cell_type": "code",
   "execution_count": 19,
   "metadata": {},
   "outputs": [
    {
     "data": {
      "text/plain": [
       "count    1.500010e+05\n",
       "mean     5.750753e+06\n",
       "std      3.309097e+06\n",
       "min      2.070000e+02\n",
       "25%      2.882393e+06\n",
       "50%      5.765829e+06\n",
       "75%      8.623552e+06\n",
       "max      1.146283e+07\n",
       "Name: Google DL (Bytes), dtype: float64"
      ]
     },
     "execution_count": 19,
     "metadata": {},
     "output_type": "execute_result"
    }
   ],
   "source": [
    "data['Google DL (Bytes)'].describe()"
   ]
  },
  {
   "cell_type": "code",
   "execution_count": 50,
   "metadata": {},
   "outputs": [
    {
     "data": {
      "text/plain": [
       "count    1.500010e+05\n",
       "mean     2.056542e+06\n",
       "std      1.189917e+06\n",
       "min      3.000000e+00\n",
       "25%      1.024279e+06\n",
       "50%      2.054573e+06\n",
       "75%      3.088454e+06\n",
       "max      4.121357e+06\n",
       "Name: Google UL (Bytes), dtype: float64"
      ]
     },
     "execution_count": 50,
     "metadata": {},
     "output_type": "execute_result"
    }
   ],
   "source": [
    "data['Google UL (Bytes)'].describe()"
   ]
  },
  {
   "cell_type": "code",
   "execution_count": 20,
   "metadata": {},
   "outputs": [
    {
     "data": {
      "text/plain": [
       "count    1.500010e+05\n",
       "mean     1.791729e+06\n",
       "std      1.035840e+06\n",
       "min      1.400000e+01\n",
       "25%      8.927930e+05\n",
       "50%      1.793505e+06\n",
       "75%      2.689327e+06\n",
       "max      3.586146e+06\n",
       "Name: Email DL (Bytes), dtype: float64"
      ]
     },
     "execution_count": 20,
     "metadata": {},
     "output_type": "execute_result"
    }
   ],
   "source": [
    "data['Email DL (Bytes)'].describe()"
   ]
  },
  {
   "cell_type": "code",
   "execution_count": 21,
   "metadata": {},
   "outputs": [
    {
     "data": {
      "text/plain": [
       "count    1.500010e+05\n",
       "mean     1.163407e+07\n",
       "std      6.710569e+06\n",
       "min      5.300000e+01\n",
       "25%      5.833501e+06\n",
       "50%      1.161602e+07\n",
       "75%      1.744852e+07\n",
       "max      2.325910e+07\n",
       "Name: Youtube DL (Bytes), dtype: float64"
      ]
     },
     "execution_count": 21,
     "metadata": {},
     "output_type": "execute_result"
    }
   ],
   "source": [
    "data['Youtube DL (Bytes)'].describe()"
   ]
  },
  {
   "cell_type": "code",
   "execution_count": 48,
   "metadata": {},
   "outputs": [
    {
     "data": {
      "text/plain": [
       "count    1.500010e+05\n",
       "mean     1.100941e+07\n",
       "std      6.345423e+06\n",
       "min      1.050000e+02\n",
       "25%      5.517965e+06\n",
       "50%      1.101345e+07\n",
       "75%      1.651556e+07\n",
       "max      2.201196e+07\n",
       "Name: Youtube UL (Bytes), dtype: float64"
      ]
     },
     "execution_count": 48,
     "metadata": {},
     "output_type": "execute_result"
    }
   ],
   "source": [
    "data['Youtube UL (Bytes)'].describe()"
   ]
  },
  {
   "cell_type": "code",
   "execution_count": 22,
   "metadata": {},
   "outputs": [
    {
     "data": {
      "text/plain": [
       "count    1.500010e+05\n",
       "mean     1.162685e+07\n",
       "std      6.725218e+06\n",
       "min      4.200000e+01\n",
       "25%      5.777156e+06\n",
       "50%      1.164222e+07\n",
       "75%      1.747048e+07\n",
       "max      2.325919e+07\n",
       "Name: Netflix DL (Bytes), dtype: float64"
      ]
     },
     "execution_count": 22,
     "metadata": {},
     "output_type": "execute_result"
    }
   ],
   "source": [
    "data['Netflix DL (Bytes)'].describe()"
   ]
  },
  {
   "cell_type": "code",
   "execution_count": 49,
   "metadata": {},
   "outputs": [
    {
     "data": {
      "text/plain": [
       "count    1.500010e+05\n",
       "mean     1.100175e+07\n",
       "std      6.359490e+06\n",
       "min      3.500000e+01\n",
       "25%      5.475981e+06\n",
       "50%      1.099638e+07\n",
       "75%      1.650727e+07\n",
       "max      2.201196e+07\n",
       "Name: Netflix UL (Bytes), dtype: float64"
      ]
     },
     "execution_count": 49,
     "metadata": {},
     "output_type": "execute_result"
    }
   ],
   "source": [
    "data['Netflix UL (Bytes)'].describe()"
   ]
  },
  {
   "cell_type": "code",
   "execution_count": 23,
   "metadata": {},
   "outputs": [
    {
     "data": {
      "text/plain": [
       "count    1.500010e+05\n",
       "mean     4.220447e+08\n",
       "std      2.439675e+08\n",
       "min      2.516000e+03\n",
       "25%      2.104733e+08\n",
       "50%      4.234081e+08\n",
       "75%      6.331742e+08\n",
       "max      8.434419e+08\n",
       "Name: Gaming DL (Bytes), dtype: float64"
      ]
     },
     "execution_count": 23,
     "metadata": {},
     "output_type": "execute_result"
    }
   ],
   "source": [
    "data['Gaming DL (Bytes)'].describe()"
   ]
  },
  {
   "cell_type": "code",
   "execution_count": 51,
   "metadata": {},
   "outputs": [
    {
     "data": {
      "text/plain": [
       "count    1.500010e+05\n",
       "mean     8.288398e+06\n",
       "std      4.782700e+06\n",
       "min      5.900000e+01\n",
       "25%      4.128476e+06\n",
       "50%      8.291208e+06\n",
       "75%      1.243162e+07\n",
       "max      1.655879e+07\n",
       "Name: Gaming UL (Bytes), dtype: float64"
      ]
     },
     "execution_count": 51,
     "metadata": {},
     "output_type": "execute_result"
    }
   ],
   "source": [
    "data['Gaming L (Bytes)'].describe()"
   ]
  },
  {
   "cell_type": "code",
   "execution_count": 24,
   "metadata": {},
   "outputs": [
    {
     "data": {
      "text/plain": [
       "count    1.500010e+05\n",
       "mean     4.211005e+08\n",
       "std      2.432050e+08\n",
       "min      3.290000e+03\n",
       "25%      2.101869e+08\n",
       "50%      4.218030e+08\n",
       "75%      6.316918e+08\n",
       "max      8.434425e+08\n",
       "Name: Other DL (Bytes), dtype: float64"
      ]
     },
     "execution_count": 24,
     "metadata": {},
     "output_type": "execute_result"
    }
   ],
   "source": [
    "data['Other DL (Bytes)'].describe()"
   ]
  },
  {
   "cell_type": "code",
   "execution_count": 25,
   "metadata": {},
   "outputs": [
    {
     "data": {
      "text/plain": [
       "count    1.500000e+05\n",
       "mean     4.546434e+08\n",
       "std      2.441429e+08\n",
       "min      7.114041e+06\n",
       "25%      2.431068e+08\n",
       "50%      4.558411e+08\n",
       "75%      6.657055e+08\n",
       "max      9.029696e+08\n",
       "Name: Total DL (Bytes), dtype: float64"
      ]
     },
     "execution_count": 25,
     "metadata": {},
     "output_type": "execute_result"
    }
   ],
   "source": [
    "data['Total DL (Bytes)'].describe()"
   ]
  },
  {
   "cell_type": "code",
   "execution_count": 46,
   "metadata": {},
   "outputs": [
    {
     "data": {
      "text/plain": [
       "count    1.500000e+05\n",
       "mean     4.112121e+07\n",
       "std      1.127639e+07\n",
       "min      2.866892e+06\n",
       "25%      3.322201e+07\n",
       "50%      4.114331e+07\n",
       "75%      4.903424e+07\n",
       "max      7.833131e+07\n",
       "Name: Total UL (Bytes), dtype: float64"
      ]
     },
     "execution_count": 46,
     "metadata": {},
     "output_type": "execute_result"
    }
   ],
   "source": [
    "data['Total UL (Bytes)'].describe()"
   ]
  },
  {
   "cell_type": "markdown",
   "metadata": {},
   "source": [
    "## Cummulative frequency for Total Duration"
   ]
  },
  {
   "cell_type": "code",
   "execution_count": 26,
   "metadata": {},
   "outputs": [],
   "source": [
    "cumsum_data = data.groupby('MSISDN/Number')['Dur. (ms)'].cumsum()"
   ]
  },
  {
   "cell_type": "code",
   "execution_count": 27,
   "metadata": {},
   "outputs": [],
   "source": [
    "# pd.qcut(data['Dur. (ms)'],10)"
   ]
  },
  {
   "cell_type": "code",
   "execution_count": 28,
   "metadata": {},
   "outputs": [
    {
     "data": {
      "image/png": "[encoded data removed]",
      "text/plain": [
       "<Figure size 432x288 with 1 Axes>"
      ]
     },
     "metadata": {
      "needs_background": "light"
     },
     "output_type": "display_data"
    }
   ],
   "source": [
    "plt.boxplot(data['Social Media DL (Bytes)'])\n",
    "plt.show()"
   ]
  },
  {
   "cell_type": "code",
   "execution_count": 29,
   "metadata": {},
   "outputs": [],
   "source": [
    "# plt.title('User Attribute DL across applications')\n",
    "# # plt.hist(data['Social Media DL (Bytes)'])"
   ]
  },
  {
   "cell_type": "code",
   "execution_count": 30,
   "metadata": {},
   "outputs": [],
   "source": [
    "Dl_df = ['Social Media DL (Bytes)', 'Google DL (Bytes)', 'Email DL (Bytes)',\n",
    "             'Youtube DL (Bytes)', 'Netflix DL (Bytes)', 'Gaming DL (Bytes)',\n",
    "             'Gaming DL (Bytes)', 'Other DL (Bytes)', 'Total DL (Bytes)']\n",
    "\n",
    "UL_df = ['Social Media UL (Bytes)', 'Google UL (Bytes)', 'Email UL (Bytes)',\n",
    "             'Youtube UL (Bytes)', 'Netflix UL (Bytes)', 'Gaming UL (Bytes)',\n",
    "             'Gaming UL (Bytes)', 'Other UL (Bytes)', 'Total UL (Bytes)']"
   ]
  },
  {
   "cell_type": "code",
   "execution_count": 31,
   "metadata": {},
   "outputs": [],
   "source": [
    "dl_df = data[Dl_df]\n",
    "ul_df = data[UL_df]"
   ]
  },
  {
   "cell_type": "code",
   "execution_count": 32,
   "metadata": {},
   "outputs": [
    {
     "data": {
      "text/html": [
       "<div>\n",
       "<style scoped>\n",
       "    .dataframe tbody tr th:only-of-type {\n",
       "        vertical-align: middle;\n",
       "    }\n",
       "\n",
       "    .dataframe tbody tr th {\n",
       "        vertical-align: top;\n",
       "    }\n",
       "\n",
       "    .dataframe thead th {\n",
       "        text-align: right;\n",
       "    }\n",
       "</style>\n",
       "<table border=\"1\" class=\"dataframe\">\n",
       "  <thead>\n",
       "    <tr style=\"text-align: right;\">\n",
       "      <th></th>\n",
       "      <th>Social Media DL (Bytes)</th>\n",
       "      <th>Google DL (Bytes)</th>\n",
       "      <th>Email DL (Bytes)</th>\n",
       "      <th>Youtube DL (Bytes)</th>\n",
       "      <th>Netflix DL (Bytes)</th>\n",
       "      <th>Gaming DL (Bytes)</th>\n",
       "      <th>Gaming DL (Bytes)</th>\n",
       "      <th>Other DL (Bytes)</th>\n",
       "      <th>Total DL (Bytes)</th>\n",
       "    </tr>\n",
       "  </thead>\n",
       "  <tbody>\n",
       "    <tr>\n",
       "      <th>Social Media DL (Bytes)</th>\n",
       "      <td>1.000000</td>\n",
       "      <td>-0.001954</td>\n",
       "      <td>0.004745</td>\n",
       "      <td>-0.001389</td>\n",
       "      <td>-0.001817</td>\n",
       "      <td>0.001018</td>\n",
       "      <td>0.001018</td>\n",
       "      <td>0.006126</td>\n",
       "      <td>0.005164</td>\n",
       "    </tr>\n",
       "    <tr>\n",
       "      <th>Google DL (Bytes)</th>\n",
       "      <td>-0.001954</td>\n",
       "      <td>1.000000</td>\n",
       "      <td>-0.000039</td>\n",
       "      <td>0.001760</td>\n",
       "      <td>0.000548</td>\n",
       "      <td>-0.001421</td>\n",
       "      <td>-0.001421</td>\n",
       "      <td>-0.002557</td>\n",
       "      <td>0.012189</td>\n",
       "    </tr>\n",
       "    <tr>\n",
       "      <th>Email DL (Bytes)</th>\n",
       "      <td>0.004745</td>\n",
       "      <td>-0.000039</td>\n",
       "      <td>1.000000</td>\n",
       "      <td>0.001679</td>\n",
       "      <td>0.001351</td>\n",
       "      <td>0.000050</td>\n",
       "      <td>0.000050</td>\n",
       "      <td>-0.000444</td>\n",
       "      <td>0.004395</td>\n",
       "    </tr>\n",
       "    <tr>\n",
       "      <th>Youtube DL (Bytes)</th>\n",
       "      <td>-0.001389</td>\n",
       "      <td>0.001760</td>\n",
       "      <td>0.001679</td>\n",
       "      <td>1.000000</td>\n",
       "      <td>0.001202</td>\n",
       "      <td>-0.001861</td>\n",
       "      <td>-0.001861</td>\n",
       "      <td>0.002042</td>\n",
       "      <td>0.025685</td>\n",
       "    </tr>\n",
       "    <tr>\n",
       "      <th>Netflix DL (Bytes)</th>\n",
       "      <td>-0.001817</td>\n",
       "      <td>0.000548</td>\n",
       "      <td>0.001351</td>\n",
       "      <td>0.001202</td>\n",
       "      <td>1.000000</td>\n",
       "      <td>-0.003201</td>\n",
       "      <td>-0.003201</td>\n",
       "      <td>-0.006000</td>\n",
       "      <td>0.024386</td>\n",
       "    </tr>\n",
       "    <tr>\n",
       "      <th>Gaming DL (Bytes)</th>\n",
       "      <td>0.001018</td>\n",
       "      <td>-0.001421</td>\n",
       "      <td>0.000050</td>\n",
       "      <td>-0.001861</td>\n",
       "      <td>-0.003201</td>\n",
       "      <td>1.000000</td>\n",
       "      <td>1.000000</td>\n",
       "      <td>-0.002591</td>\n",
       "      <td>0.999131</td>\n",
       "    </tr>\n",
       "    <tr>\n",
       "      <th>Gaming DL (Bytes)</th>\n",
       "      <td>0.001018</td>\n",
       "      <td>-0.001421</td>\n",
       "      <td>0.000050</td>\n",
       "      <td>-0.001861</td>\n",
       "      <td>-0.003201</td>\n",
       "      <td>1.000000</td>\n",
       "      <td>1.000000</td>\n",
       "      <td>-0.002591</td>\n",
       "      <td>0.999131</td>\n",
       "    </tr>\n",
       "    <tr>\n",
       "      <th>Other DL (Bytes)</th>\n",
       "      <td>0.006126</td>\n",
       "      <td>-0.002557</td>\n",
       "      <td>-0.000444</td>\n",
       "      <td>0.002042</td>\n",
       "      <td>-0.006000</td>\n",
       "      <td>-0.002591</td>\n",
       "      <td>-0.002591</td>\n",
       "      <td>1.000000</td>\n",
       "      <td>-0.002709</td>\n",
       "    </tr>\n",
       "    <tr>\n",
       "      <th>Total DL (Bytes)</th>\n",
       "      <td>0.005164</td>\n",
       "      <td>0.012189</td>\n",
       "      <td>0.004395</td>\n",
       "      <td>0.025685</td>\n",
       "      <td>0.024386</td>\n",
       "      <td>0.999131</td>\n",
       "      <td>0.999131</td>\n",
       "      <td>-0.002709</td>\n",
       "      <td>1.000000</td>\n",
       "    </tr>\n",
       "  </tbody>\n",
       "</table>\n",
       "</div>"
      ],
      "text/plain": [
       "                         Social Media DL (Bytes)  Google DL (Bytes)  \\\n",
       "Social Media DL (Bytes)                 1.000000          -0.001954   \n",
       "Google DL (Bytes)                      -0.001954           1.000000   \n",
       "Email DL (Bytes)                        0.004745          -0.000039   \n",
       "Youtube DL (Bytes)                     -0.001389           0.001760   \n",
       "Netflix DL (Bytes)                     -0.001817           0.000548   \n",
       "Gaming DL (Bytes)                       0.001018          -0.001421   \n",
       "Gaming DL (Bytes)                       0.001018          -0.001421   \n",
       "Other DL (Bytes)                        0.006126          -0.002557   \n",
       "Total DL (Bytes)                        0.005164           0.012189   \n",
       "\n",
       "                         Email DL (Bytes)  Youtube DL (Bytes)  \\\n",
       "Social Media DL (Bytes)          0.004745           -0.001389   \n",
       "Google DL (Bytes)               -0.000039            0.001760   \n",
       "Email DL (Bytes)                 1.000000            0.001679   \n",
       "Youtube DL (Bytes)               0.001679            1.000000   \n",
       "Netflix DL (Bytes)               0.001351            0.001202   \n",
       "Gaming DL (Bytes)                0.000050           -0.001861   \n",
       "Gaming DL (Bytes)                0.000050           -0.001861   \n",
       "Other DL (Bytes)                -0.000444            0.002042   \n",
       "Total DL (Bytes)                 0.004395            0.025685   \n",
       "\n",
       "                         Netflix DL (Bytes)  Gaming DL (Bytes)  \\\n",
       "Social Media DL (Bytes)           -0.001817           0.001018   \n",
       "Google DL (Bytes)                  0.000548          -0.001421   \n",
       "Email DL (Bytes)                   0.001351           0.000050   \n",
       "Youtube DL (Bytes)                 0.001202          -0.001861   \n",
       "Netflix DL (Bytes)                 1.000000          -0.003201   \n",
       "Gaming DL (Bytes)                 -0.003201           1.000000   \n",
       "Gaming DL (Bytes)                 -0.003201           1.000000   \n",
       "Other DL (Bytes)                  -0.006000          -0.002591   \n",
       "Total DL (Bytes)                   0.024386           0.999131   \n",
       "\n",
       "                         Gaming DL (Bytes)  Other DL (Bytes)  Total DL (Bytes)  \n",
       "Social Media DL (Bytes)           0.001018          0.006126          0.005164  \n",
       "Google DL (Bytes)                -0.001421         -0.002557          0.012189  \n",
       "Email DL (Bytes)                  0.000050         -0.000444          0.004395  \n",
       "Youtube DL (Bytes)               -0.001861          0.002042          0.025685  \n",
       "Netflix DL (Bytes)               -0.003201         -0.006000          0.024386  \n",
       "Gaming DL (Bytes)                 1.000000         -0.002591          0.999131  \n",
       "Gaming DL (Bytes)                 1.000000         -0.002591          0.999131  \n",
       "Other DL (Bytes)                 -0.002591          1.000000         -0.002709  \n",
       "Total DL (Bytes)                  0.999131         -0.002709          1.000000  "
      ]
     },
     "execution_count": 32,
     "metadata": {},
     "output_type": "execute_result"
    }
   ],
   "source": [
    "dl_df.corr()"
   ]
  },
  {
   "cell_type": "code",
   "execution_count": 33,
   "metadata": {},
   "outputs": [
    {
     "name": "stderr",
     "output_type": "stream",
     "text": [
      "C:\\Users\\Temilade\\AppData\\Local\\Continuum\\anaconda3\\lib\\site-packages\\ipykernel_launcher.py:1: SettingWithCopyWarning: \n",
      "A value is trying to be set on a copy of a slice from a DataFrame.\n",
      "Try using .loc[row_indexer,col_indexer] = value instead\n",
      "\n",
      "See the caveats in the documentation: http://pandas.pydata.org/pandas-docs/stable/indexing.html#indexing-view-versus-copy\n",
      "  \"\"\"Entry point for launching an IPython kernel.\n"
     ]
    }
   ],
   "source": [
    "dl_df['id'] = 'DL'"
   ]
  },
  {
   "cell_type": "code",
   "execution_count": 34,
   "metadata": {},
   "outputs": [
    {
     "name": "stderr",
     "output_type": "stream",
     "text": [
      "C:\\Users\\Temilade\\AppData\\Local\\Continuum\\anaconda3\\lib\\site-packages\\ipykernel_launcher.py:1: SettingWithCopyWarning: \n",
      "A value is trying to be set on a copy of a slice from a DataFrame.\n",
      "Try using .loc[row_indexer,col_indexer] = value instead\n",
      "\n",
      "See the caveats in the documentation: http://pandas.pydata.org/pandas-docs/stable/indexing.html#indexing-view-versus-copy\n",
      "  \"\"\"Entry point for launching an IPython kernel.\n"
     ]
    }
   ],
   "source": [
    "ul_df['id'] = 'UL' "
   ]
  },
  {
   "cell_type": "code",
   "execution_count": 35,
   "metadata": {},
   "outputs": [
    {
     "data": {
      "text/plain": [
       "Index(['Social Media DL (Bytes)', 'Google DL (Bytes)', 'Email DL (Bytes)',\n",
       "       'Youtube DL (Bytes)', 'Netflix DL (Bytes)', 'Gaming DL (Bytes)',\n",
       "       'Gaming DL (Bytes)', 'Other DL (Bytes)', 'Total DL (Bytes)', 'id'],\n",
       "      dtype='object')"
      ]
     },
     "execution_count": 35,
     "metadata": {},
     "output_type": "execute_result"
    }
   ],
   "source": [
    "dl_df.columns"
   ]
  },
  {
   "cell_type": "code",
   "execution_count": 36,
   "metadata": {},
   "outputs": [],
   "source": [
    "# plt.figure(figsize=(30,40))\n",
    "# dl_df.boxplot(column= ['Social Media DL (Bytes)', 'Google DL (Bytes)', 'Email DL (Bytes)',\n",
    "#        'Youtube DL (Bytes)', 'Netflix DL (Bytes)', 'Gaming DL (Bytes)',\n",
    "#        'Gaming DL (Bytes)', 'Other DL (Bytes)', 'Total DL (Bytes)'], grid=False)\n"
   ]
  },
  {
   "cell_type": "markdown",
   "metadata": {},
   "source": [
    "## Correlation"
   ]
  },
  {
   "cell_type": "code",
   "execution_count": 37,
   "metadata": {},
   "outputs": [],
   "source": [
    "data_corr = ul_df.join(dl_df.drop('id', axis = 1))"
   ]
  },
  {
   "cell_type": "code",
   "execution_count": 38,
   "metadata": {},
   "outputs": [],
   "source": [
    "data_corr = data_corr.drop('id', axis = 1)"
   ]
  },
  {
   "cell_type": "code",
   "execution_count": 39,
   "metadata": {},
   "outputs": [
    {
     "data": {
      "text/html": [
       "<div>\n",
       "<style scoped>\n",
       "    .dataframe tbody tr th:only-of-type {\n",
       "        vertical-align: middle;\n",
       "    }\n",
       "\n",
       "    .dataframe tbody tr th {\n",
       "        vertical-align: top;\n",
       "    }\n",
       "\n",
       "    .dataframe thead th {\n",
       "        text-align: right;\n",
       "    }\n",
       "</style>\n",
       "<table border=\"1\" class=\"dataframe\">\n",
       "  <thead>\n",
       "    <tr style=\"text-align: right;\">\n",
       "      <th></th>\n",
       "      <th>Social Media UL (Bytes)</th>\n",
       "      <th>Google UL (Bytes)</th>\n",
       "      <th>Email UL (Bytes)</th>\n",
       "      <th>Youtube UL (Bytes)</th>\n",
       "      <th>Netflix UL (Bytes)</th>\n",
       "      <th>Gaming UL (Bytes)</th>\n",
       "      <th>Gaming UL (Bytes)</th>\n",
       "      <th>Other UL (Bytes)</th>\n",
       "      <th>Total UL (Bytes)</th>\n",
       "      <th>Social Media DL (Bytes)</th>\n",
       "      <th>Google DL (Bytes)</th>\n",
       "      <th>Email DL (Bytes)</th>\n",
       "      <th>Youtube DL (Bytes)</th>\n",
       "      <th>Netflix DL (Bytes)</th>\n",
       "      <th>Gaming DL (Bytes)</th>\n",
       "      <th>Gaming DL (Bytes)</th>\n",
       "      <th>Other DL (Bytes)</th>\n",
       "      <th>Total DL (Bytes)</th>\n",
       "    </tr>\n",
       "  </thead>\n",
       "  <tbody>\n",
       "    <tr>\n",
       "      <th>Social Media UL (Bytes)</th>\n",
       "      <td>1.000000</td>\n",
       "      <td>0.001085</td>\n",
       "      <td>-0.001427</td>\n",
       "      <td>-0.002368</td>\n",
       "      <td>-0.002493</td>\n",
       "      <td>0.000844</td>\n",
       "      <td>0.000844</td>\n",
       "      <td>0.000971</td>\n",
       "      <td>-0.000204</td>\n",
       "      <td>-0.000555</td>\n",
       "      <td>0.003542</td>\n",
       "      <td>0.004823</td>\n",
       "      <td>-0.001786</td>\n",
       "      <td>-0.000772</td>\n",
       "      <td>0.000210</td>\n",
       "      <td>0.000210</td>\n",
       "      <td>-0.003850</td>\n",
       "      <td>0.000206</td>\n",
       "    </tr>\n",
       "    <tr>\n",
       "      <th>Google UL (Bytes)</th>\n",
       "      <td>0.001085</td>\n",
       "      <td>1.000000</td>\n",
       "      <td>-0.002050</td>\n",
       "      <td>0.001670</td>\n",
       "      <td>-0.004073</td>\n",
       "      <td>-0.002516</td>\n",
       "      <td>-0.002516</td>\n",
       "      <td>-0.002219</td>\n",
       "      <td>0.102113</td>\n",
       "      <td>0.000186</td>\n",
       "      <td>-0.000103</td>\n",
       "      <td>-0.001157</td>\n",
       "      <td>0.001122</td>\n",
       "      <td>-0.001288</td>\n",
       "      <td>0.001140</td>\n",
       "      <td>0.001140</td>\n",
       "      <td>0.002097</td>\n",
       "      <td>0.001129</td>\n",
       "    </tr>\n",
       "    <tr>\n",
       "      <th>Email UL (Bytes)</th>\n",
       "      <td>-0.001427</td>\n",
       "      <td>-0.002050</td>\n",
       "      <td>1.000000</td>\n",
       "      <td>-0.006834</td>\n",
       "      <td>0.000532</td>\n",
       "      <td>0.005000</td>\n",
       "      <td>0.005000</td>\n",
       "      <td>0.000081</td>\n",
       "      <td>0.022332</td>\n",
       "      <td>-0.002518</td>\n",
       "      <td>0.000742</td>\n",
       "      <td>0.002553</td>\n",
       "      <td>-0.000320</td>\n",
       "      <td>-0.000011</td>\n",
       "      <td>-0.002519</td>\n",
       "      <td>-0.002519</td>\n",
       "      <td>-0.003805</td>\n",
       "      <td>-0.002516</td>\n",
       "    </tr>\n",
       "    <tr>\n",
       "      <th>Youtube UL (Bytes)</th>\n",
       "      <td>-0.002368</td>\n",
       "      <td>0.001670</td>\n",
       "      <td>-0.006834</td>\n",
       "      <td>1.000000</td>\n",
       "      <td>0.002477</td>\n",
       "      <td>0.000898</td>\n",
       "      <td>0.000898</td>\n",
       "      <td>-0.001393</td>\n",
       "      <td>0.563917</td>\n",
       "      <td>0.002345</td>\n",
       "      <td>0.000638</td>\n",
       "      <td>-0.004305</td>\n",
       "      <td>0.002433</td>\n",
       "      <td>0.000423</td>\n",
       "      <td>-0.002382</td>\n",
       "      <td>-0.002382</td>\n",
       "      <td>0.002296</td>\n",
       "      <td>-0.002301</td>\n",
       "    </tr>\n",
       "    <tr>\n",
       "      <th>Netflix UL (Bytes)</th>\n",
       "      <td>-0.002493</td>\n",
       "      <td>-0.004073</td>\n",
       "      <td>0.000532</td>\n",
       "      <td>0.002477</td>\n",
       "      <td>1.000000</td>\n",
       "      <td>-0.004015</td>\n",
       "      <td>-0.004015</td>\n",
       "      <td>-0.003447</td>\n",
       "      <td>0.561779</td>\n",
       "      <td>0.003457</td>\n",
       "      <td>-0.001569</td>\n",
       "      <td>-0.000016</td>\n",
       "      <td>0.001746</td>\n",
       "      <td>0.001065</td>\n",
       "      <td>-0.001051</td>\n",
       "      <td>-0.001051</td>\n",
       "      <td>-0.006691</td>\n",
       "      <td>-0.000979</td>\n",
       "    </tr>\n",
       "    <tr>\n",
       "      <th>Gaming UL (Bytes)</th>\n",
       "      <td>0.000844</td>\n",
       "      <td>-0.002516</td>\n",
       "      <td>0.005000</td>\n",
       "      <td>0.000898</td>\n",
       "      <td>-0.004015</td>\n",
       "      <td>1.000000</td>\n",
       "      <td>1.000000</td>\n",
       "      <td>-0.006011</td>\n",
       "      <td>0.419690</td>\n",
       "      <td>0.003095</td>\n",
       "      <td>-0.001429</td>\n",
       "      <td>-0.004335</td>\n",
       "      <td>-0.001893</td>\n",
       "      <td>-0.000633</td>\n",
       "      <td>0.001162</td>\n",
       "      <td>0.001162</td>\n",
       "      <td>-0.002381</td>\n",
       "      <td>0.001067</td>\n",
       "    </tr>\n",
       "    <tr>\n",
       "      <th>Gaming UL (Bytes)</th>\n",
       "      <td>0.000844</td>\n",
       "      <td>-0.002516</td>\n",
       "      <td>0.005000</td>\n",
       "      <td>0.000898</td>\n",
       "      <td>-0.004015</td>\n",
       "      <td>1.000000</td>\n",
       "      <td>1.000000</td>\n",
       "      <td>-0.006011</td>\n",
       "      <td>0.419690</td>\n",
       "      <td>0.003095</td>\n",
       "      <td>-0.001429</td>\n",
       "      <td>-0.004335</td>\n",
       "      <td>-0.001893</td>\n",
       "      <td>-0.000633</td>\n",
       "      <td>0.001162</td>\n",
       "      <td>0.001162</td>\n",
       "      <td>-0.002381</td>\n",
       "      <td>0.001067</td>\n",
       "    </tr>\n",
       "    <tr>\n",
       "      <th>Other UL (Bytes)</th>\n",
       "      <td>0.000971</td>\n",
       "      <td>-0.002219</td>\n",
       "      <td>0.000081</td>\n",
       "      <td>-0.001393</td>\n",
       "      <td>-0.003447</td>\n",
       "      <td>-0.006011</td>\n",
       "      <td>-0.006011</td>\n",
       "      <td>1.000000</td>\n",
       "      <td>0.417413</td>\n",
       "      <td>0.000610</td>\n",
       "      <td>-0.000882</td>\n",
       "      <td>0.004675</td>\n",
       "      <td>-0.004830</td>\n",
       "      <td>-0.002588</td>\n",
       "      <td>-0.001131</td>\n",
       "      <td>-0.001131</td>\n",
       "      <td>0.003421</td>\n",
       "      <td>-0.001324</td>\n",
       "    </tr>\n",
       "    <tr>\n",
       "      <th>Total UL (Bytes)</th>\n",
       "      <td>-0.000204</td>\n",
       "      <td>0.102113</td>\n",
       "      <td>0.022332</td>\n",
       "      <td>0.563917</td>\n",
       "      <td>0.561779</td>\n",
       "      <td>0.419690</td>\n",
       "      <td>0.419690</td>\n",
       "      <td>0.417413</td>\n",
       "      <td>1.000000</td>\n",
       "      <td>0.004798</td>\n",
       "      <td>-0.001492</td>\n",
       "      <td>-0.002346</td>\n",
       "      <td>-0.000384</td>\n",
       "      <td>-0.000662</td>\n",
       "      <td>-0.001858</td>\n",
       "      <td>-0.001858</td>\n",
       "      <td>-0.001921</td>\n",
       "      <td>-0.001895</td>\n",
       "    </tr>\n",
       "    <tr>\n",
       "      <th>Social Media DL (Bytes)</th>\n",
       "      <td>-0.000555</td>\n",
       "      <td>0.000186</td>\n",
       "      <td>-0.002518</td>\n",
       "      <td>0.002345</td>\n",
       "      <td>0.003457</td>\n",
       "      <td>0.003095</td>\n",
       "      <td>0.003095</td>\n",
       "      <td>0.000610</td>\n",
       "      <td>0.004798</td>\n",
       "      <td>1.000000</td>\n",
       "      <td>-0.001954</td>\n",
       "      <td>0.004745</td>\n",
       "      <td>-0.001389</td>\n",
       "      <td>-0.001817</td>\n",
       "      <td>0.001018</td>\n",
       "      <td>0.001018</td>\n",
       "      <td>0.006126</td>\n",
       "      <td>0.005164</td>\n",
       "    </tr>\n",
       "    <tr>\n",
       "      <th>Google DL (Bytes)</th>\n",
       "      <td>0.003542</td>\n",
       "      <td>-0.000103</td>\n",
       "      <td>0.000742</td>\n",
       "      <td>0.000638</td>\n",
       "      <td>-0.001569</td>\n",
       "      <td>-0.001429</td>\n",
       "      <td>-0.001429</td>\n",
       "      <td>-0.000882</td>\n",
       "      <td>-0.001492</td>\n",
       "      <td>-0.001954</td>\n",
       "      <td>1.000000</td>\n",
       "      <td>-0.000039</td>\n",
       "      <td>0.001760</td>\n",
       "      <td>0.000548</td>\n",
       "      <td>-0.001421</td>\n",
       "      <td>-0.001421</td>\n",
       "      <td>-0.002557</td>\n",
       "      <td>0.012189</td>\n",
       "    </tr>\n",
       "    <tr>\n",
       "      <th>Email DL (Bytes)</th>\n",
       "      <td>0.004823</td>\n",
       "      <td>-0.001157</td>\n",
       "      <td>0.002553</td>\n",
       "      <td>-0.004305</td>\n",
       "      <td>-0.000016</td>\n",
       "      <td>-0.004335</td>\n",
       "      <td>-0.004335</td>\n",
       "      <td>0.004675</td>\n",
       "      <td>-0.002346</td>\n",
       "      <td>0.004745</td>\n",
       "      <td>-0.000039</td>\n",
       "      <td>1.000000</td>\n",
       "      <td>0.001679</td>\n",
       "      <td>0.001351</td>\n",
       "      <td>0.000050</td>\n",
       "      <td>0.000050</td>\n",
       "      <td>-0.000444</td>\n",
       "      <td>0.004395</td>\n",
       "    </tr>\n",
       "    <tr>\n",
       "      <th>Youtube DL (Bytes)</th>\n",
       "      <td>-0.001786</td>\n",
       "      <td>0.001122</td>\n",
       "      <td>-0.000320</td>\n",
       "      <td>0.002433</td>\n",
       "      <td>0.001746</td>\n",
       "      <td>-0.001893</td>\n",
       "      <td>-0.001893</td>\n",
       "      <td>-0.004830</td>\n",
       "      <td>-0.000384</td>\n",
       "      <td>-0.001389</td>\n",
       "      <td>0.001760</td>\n",
       "      <td>0.001679</td>\n",
       "      <td>1.000000</td>\n",
       "      <td>0.001202</td>\n",
       "      <td>-0.001861</td>\n",
       "      <td>-0.001861</td>\n",
       "      <td>0.002042</td>\n",
       "      <td>0.025685</td>\n",
       "    </tr>\n",
       "    <tr>\n",
       "      <th>Netflix DL (Bytes)</th>\n",
       "      <td>-0.000772</td>\n",
       "      <td>-0.001288</td>\n",
       "      <td>-0.000011</td>\n",
       "      <td>0.000423</td>\n",
       "      <td>0.001065</td>\n",
       "      <td>-0.000633</td>\n",
       "      <td>-0.000633</td>\n",
       "      <td>-0.002588</td>\n",
       "      <td>-0.000662</td>\n",
       "      <td>-0.001817</td>\n",
       "      <td>0.000548</td>\n",
       "      <td>0.001351</td>\n",
       "      <td>0.001202</td>\n",
       "      <td>1.000000</td>\n",
       "      <td>-0.003201</td>\n",
       "      <td>-0.003201</td>\n",
       "      <td>-0.006000</td>\n",
       "      <td>0.024386</td>\n",
       "    </tr>\n",
       "    <tr>\n",
       "      <th>Gaming DL (Bytes)</th>\n",
       "      <td>0.000210</td>\n",
       "      <td>0.001140</td>\n",
       "      <td>-0.002519</td>\n",
       "      <td>-0.002382</td>\n",
       "      <td>-0.001051</td>\n",
       "      <td>0.001162</td>\n",
       "      <td>0.001162</td>\n",
       "      <td>-0.001131</td>\n",
       "      <td>-0.001858</td>\n",
       "      <td>0.001018</td>\n",
       "      <td>-0.001421</td>\n",
       "      <td>0.000050</td>\n",
       "      <td>-0.001861</td>\n",
       "      <td>-0.003201</td>\n",
       "      <td>1.000000</td>\n",
       "      <td>1.000000</td>\n",
       "      <td>-0.002591</td>\n",
       "      <td>0.999131</td>\n",
       "    </tr>\n",
       "    <tr>\n",
       "      <th>Gaming DL (Bytes)</th>\n",
       "      <td>0.000210</td>\n",
       "      <td>0.001140</td>\n",
       "      <td>-0.002519</td>\n",
       "      <td>-0.002382</td>\n",
       "      <td>-0.001051</td>\n",
       "      <td>0.001162</td>\n",
       "      <td>0.001162</td>\n",
       "      <td>-0.001131</td>\n",
       "      <td>-0.001858</td>\n",
       "      <td>0.001018</td>\n",
       "      <td>-0.001421</td>\n",
       "      <td>0.000050</td>\n",
       "      <td>-0.001861</td>\n",
       "      <td>-0.003201</td>\n",
       "      <td>1.000000</td>\n",
       "      <td>1.000000</td>\n",
       "      <td>-0.002591</td>\n",
       "      <td>0.999131</td>\n",
       "    </tr>\n",
       "    <tr>\n",
       "      <th>Other DL (Bytes)</th>\n",
       "      <td>-0.003850</td>\n",
       "      <td>0.002097</td>\n",
       "      <td>-0.003805</td>\n",
       "      <td>0.002296</td>\n",
       "      <td>-0.006691</td>\n",
       "      <td>-0.002381</td>\n",
       "      <td>-0.002381</td>\n",
       "      <td>0.003421</td>\n",
       "      <td>-0.001921</td>\n",
       "      <td>0.006126</td>\n",
       "      <td>-0.002557</td>\n",
       "      <td>-0.000444</td>\n",
       "      <td>0.002042</td>\n",
       "      <td>-0.006000</td>\n",
       "      <td>-0.002591</td>\n",
       "      <td>-0.002591</td>\n",
       "      <td>1.000000</td>\n",
       "      <td>-0.002709</td>\n",
       "    </tr>\n",
       "    <tr>\n",
       "      <th>Total DL (Bytes)</th>\n",
       "      <td>0.000206</td>\n",
       "      <td>0.001129</td>\n",
       "      <td>-0.002516</td>\n",
       "      <td>-0.002301</td>\n",
       "      <td>-0.000979</td>\n",
       "      <td>0.001067</td>\n",
       "      <td>0.001067</td>\n",
       "      <td>-0.001324</td>\n",
       "      <td>-0.001895</td>\n",
       "      <td>0.005164</td>\n",
       "      <td>0.012189</td>\n",
       "      <td>0.004395</td>\n",
       "      <td>0.025685</td>\n",
       "      <td>0.024386</td>\n",
       "      <td>0.999131</td>\n",
       "      <td>0.999131</td>\n",
       "      <td>-0.002709</td>\n",
       "      <td>1.000000</td>\n",
       "    </tr>\n",
       "  </tbody>\n",
       "</table>\n",
       "</div>"
      ],
      "text/plain": [
       "                         Social Media UL (Bytes)  Google UL (Bytes)  \\\n",
       "Social Media UL (Bytes)                 1.000000           0.001085   \n",
       "Google UL (Bytes)                       0.001085           1.000000   \n",
       "Email UL (Bytes)                       -0.001427          -0.002050   \n",
       "Youtube UL (Bytes)                     -0.002368           0.001670   \n",
       "Netflix UL (Bytes)                     -0.002493          -0.004073   \n",
       "Gaming UL (Bytes)                       0.000844          -0.002516   \n",
       "Gaming UL (Bytes)                       0.000844          -0.002516   \n",
       "Other UL (Bytes)                        0.000971          -0.002219   \n",
       "Total UL (Bytes)                       -0.000204           0.102113   \n",
       "Social Media DL (Bytes)                -0.000555           0.000186   \n",
       "Google DL (Bytes)                       0.003542          -0.000103   \n",
       "Email DL (Bytes)                        0.004823          -0.001157   \n",
       "Youtube DL (Bytes)                     -0.001786           0.001122   \n",
       "Netflix DL (Bytes)                     -0.000772          -0.001288   \n",
       "Gaming DL (Bytes)                       0.000210           0.001140   \n",
       "Gaming DL (Bytes)                       0.000210           0.001140   \n",
       "Other DL (Bytes)                       -0.003850           0.002097   \n",
       "Total DL (Bytes)                        0.000206           0.001129   \n",
       "\n",
       "                         Email UL (Bytes)  Youtube UL (Bytes)  \\\n",
       "Social Media UL (Bytes)         -0.001427           -0.002368   \n",
       "Google UL (Bytes)               -0.002050            0.001670   \n",
       "Email UL (Bytes)                 1.000000           -0.006834   \n",
       "Youtube UL (Bytes)              -0.006834            1.000000   \n",
       "Netflix UL (Bytes)               0.000532            0.002477   \n",
       "Gaming UL (Bytes)                0.005000            0.000898   \n",
       "Gaming UL (Bytes)                0.005000            0.000898   \n",
       "Other UL (Bytes)                 0.000081           -0.001393   \n",
       "Total UL (Bytes)                 0.022332            0.563917   \n",
       "Social Media DL (Bytes)         -0.002518            0.002345   \n",
       "Google DL (Bytes)                0.000742            0.000638   \n",
       "Email DL (Bytes)                 0.002553           -0.004305   \n",
       "Youtube DL (Bytes)              -0.000320            0.002433   \n",
       "Netflix DL (Bytes)              -0.000011            0.000423   \n",
       "Gaming DL (Bytes)               -0.002519           -0.002382   \n",
       "Gaming DL (Bytes)               -0.002519           -0.002382   \n",
       "Other DL (Bytes)                -0.003805            0.002296   \n",
       "Total DL (Bytes)                -0.002516           -0.002301   \n",
       "\n",
       "                         Netflix UL (Bytes)  Gaming UL (Bytes)  \\\n",
       "Social Media UL (Bytes)           -0.002493           0.000844   \n",
       "Google UL (Bytes)                 -0.004073          -0.002516   \n",
       "Email UL (Bytes)                   0.000532           0.005000   \n",
       "Youtube UL (Bytes)                 0.002477           0.000898   \n",
       "Netflix UL (Bytes)                 1.000000          -0.004015   \n",
       "Gaming UL (Bytes)                 -0.004015           1.000000   \n",
       "Gaming UL (Bytes)                 -0.004015           1.000000   \n",
       "Other UL (Bytes)                  -0.003447          -0.006011   \n",
       "Total UL (Bytes)                   0.561779           0.419690   \n",
       "Social Media DL (Bytes)            0.003457           0.003095   \n",
       "Google DL (Bytes)                 -0.001569          -0.001429   \n",
       "Email DL (Bytes)                  -0.000016          -0.004335   \n",
       "Youtube DL (Bytes)                 0.001746          -0.001893   \n",
       "Netflix DL (Bytes)                 0.001065          -0.000633   \n",
       "Gaming DL (Bytes)                 -0.001051           0.001162   \n",
       "Gaming DL (Bytes)                 -0.001051           0.001162   \n",
       "Other DL (Bytes)                  -0.006691          -0.002381   \n",
       "Total DL (Bytes)                  -0.000979           0.001067   \n",
       "\n",
       "                         Gaming UL (Bytes)  Other UL (Bytes)  \\\n",
       "Social Media UL (Bytes)           0.000844          0.000971   \n",
       "Google UL (Bytes)                -0.002516         -0.002219   \n",
       "Email UL (Bytes)                  0.005000          0.000081   \n",
       "Youtube UL (Bytes)                0.000898         -0.001393   \n",
       "Netflix UL (Bytes)               -0.004015         -0.003447   \n",
       "Gaming UL (Bytes)                 1.000000         -0.006011   \n",
       "Gaming UL (Bytes)                 1.000000         -0.006011   \n",
       "Other UL (Bytes)                 -0.006011          1.000000   \n",
       "Total UL (Bytes)                  0.419690          0.417413   \n",
       "Social Media DL (Bytes)           0.003095          0.000610   \n",
       "Google DL (Bytes)                -0.001429         -0.000882   \n",
       "Email DL (Bytes)                 -0.004335          0.004675   \n",
       "Youtube DL (Bytes)               -0.001893         -0.004830   \n",
       "Netflix DL (Bytes)               -0.000633         -0.002588   \n",
       "Gaming DL (Bytes)                 0.001162         -0.001131   \n",
       "Gaming DL (Bytes)                 0.001162         -0.001131   \n",
       "Other DL (Bytes)                 -0.002381          0.003421   \n",
       "Total DL (Bytes)                  0.001067         -0.001324   \n",
       "\n",
       "                         Total UL (Bytes)  Social Media DL (Bytes)  \\\n",
       "Social Media UL (Bytes)         -0.000204                -0.000555   \n",
       "Google UL (Bytes)                0.102113                 0.000186   \n",
       "Email UL (Bytes)                 0.022332                -0.002518   \n",
       "Youtube UL (Bytes)               0.563917                 0.002345   \n",
       "Netflix UL (Bytes)               0.561779                 0.003457   \n",
       "Gaming UL (Bytes)                0.419690                 0.003095   \n",
       "Gaming UL (Bytes)                0.419690                 0.003095   \n",
       "Other UL (Bytes)                 0.417413                 0.000610   \n",
       "Total UL (Bytes)                 1.000000                 0.004798   \n",
       "Social Media DL (Bytes)          0.004798                 1.000000   \n",
       "Google DL (Bytes)               -0.001492                -0.001954   \n",
       "Email DL (Bytes)                -0.002346                 0.004745   \n",
       "Youtube DL (Bytes)              -0.000384                -0.001389   \n",
       "Netflix DL (Bytes)              -0.000662                -0.001817   \n",
       "Gaming DL (Bytes)               -0.001858                 0.001018   \n",
       "Gaming DL (Bytes)               -0.001858                 0.001018   \n",
       "Other DL (Bytes)                -0.001921                 0.006126   \n",
       "Total DL (Bytes)                -0.001895                 0.005164   \n",
       "\n",
       "                         Google DL (Bytes)  Email DL (Bytes)  \\\n",
       "Social Media UL (Bytes)           0.003542          0.004823   \n",
       "Google UL (Bytes)                -0.000103         -0.001157   \n",
       "Email UL (Bytes)                  0.000742          0.002553   \n",
       "Youtube UL (Bytes)                0.000638         -0.004305   \n",
       "Netflix UL (Bytes)               -0.001569         -0.000016   \n",
       "Gaming UL (Bytes)                -0.001429         -0.004335   \n",
       "Gaming UL (Bytes)                -0.001429         -0.004335   \n",
       "Other UL (Bytes)                 -0.000882          0.004675   \n",
       "Total UL (Bytes)                 -0.001492         -0.002346   \n",
       "Social Media DL (Bytes)          -0.001954          0.004745   \n",
       "Google DL (Bytes)                 1.000000         -0.000039   \n",
       "Email DL (Bytes)                 -0.000039          1.000000   \n",
       "Youtube DL (Bytes)                0.001760          0.001679   \n",
       "Netflix DL (Bytes)                0.000548          0.001351   \n",
       "Gaming DL (Bytes)                -0.001421          0.000050   \n",
       "Gaming DL (Bytes)                -0.001421          0.000050   \n",
       "Other DL (Bytes)                 -0.002557         -0.000444   \n",
       "Total DL (Bytes)                  0.012189          0.004395   \n",
       "\n",
       "                         Youtube DL (Bytes)  Netflix DL (Bytes)  \\\n",
       "Social Media UL (Bytes)           -0.001786           -0.000772   \n",
       "Google UL (Bytes)                  0.001122           -0.001288   \n",
       "Email UL (Bytes)                  -0.000320           -0.000011   \n",
       "Youtube UL (Bytes)                 0.002433            0.000423   \n",
       "Netflix UL (Bytes)                 0.001746            0.001065   \n",
       "Gaming UL (Bytes)                 -0.001893           -0.000633   \n",
       "Gaming UL (Bytes)                 -0.001893           -0.000633   \n",
       "Other UL (Bytes)                  -0.004830           -0.002588   \n",
       "Total UL (Bytes)                  -0.000384           -0.000662   \n",
       "Social Media DL (Bytes)           -0.001389           -0.001817   \n",
       "Google DL (Bytes)                  0.001760            0.000548   \n",
       "Email DL (Bytes)                   0.001679            0.001351   \n",
       "Youtube DL (Bytes)                 1.000000            0.001202   \n",
       "Netflix DL (Bytes)                 0.001202            1.000000   \n",
       "Gaming DL (Bytes)                 -0.001861           -0.003201   \n",
       "Gaming DL (Bytes)                 -0.001861           -0.003201   \n",
       "Other DL (Bytes)                   0.002042           -0.006000   \n",
       "Total DL (Bytes)                   0.025685            0.024386   \n",
       "\n",
       "                         Gaming DL (Bytes)  Gaming DL (Bytes)  \\\n",
       "Social Media UL (Bytes)           0.000210           0.000210   \n",
       "Google UL (Bytes)                 0.001140           0.001140   \n",
       "Email UL (Bytes)                 -0.002519          -0.002519   \n",
       "Youtube UL (Bytes)               -0.002382          -0.002382   \n",
       "Netflix UL (Bytes)               -0.001051          -0.001051   \n",
       "Gaming UL (Bytes)                 0.001162           0.001162   \n",
       "Gaming UL (Bytes)                 0.001162           0.001162   \n",
       "Other UL (Bytes)                 -0.001131          -0.001131   \n",
       "Total UL (Bytes)                 -0.001858          -0.001858   \n",
       "Social Media DL (Bytes)           0.001018           0.001018   \n",
       "Google DL (Bytes)                -0.001421          -0.001421   \n",
       "Email DL (Bytes)                  0.000050           0.000050   \n",
       "Youtube DL (Bytes)               -0.001861          -0.001861   \n",
       "Netflix DL (Bytes)               -0.003201          -0.003201   \n",
       "Gaming DL (Bytes)                 1.000000           1.000000   \n",
       "Gaming DL (Bytes)                 1.000000           1.000000   \n",
       "Other DL (Bytes)                 -0.002591          -0.002591   \n",
       "Total DL (Bytes)                  0.999131           0.999131   \n",
       "\n",
       "                         Other DL (Bytes)  Total DL (Bytes)  \n",
       "Social Media UL (Bytes)         -0.003850          0.000206  \n",
       "Google UL (Bytes)                0.002097          0.001129  \n",
       "Email UL (Bytes)                -0.003805         -0.002516  \n",
       "Youtube UL (Bytes)               0.002296         -0.002301  \n",
       "Netflix UL (Bytes)              -0.006691         -0.000979  \n",
       "Gaming UL (Bytes)               -0.002381          0.001067  \n",
       "Gaming UL (Bytes)               -0.002381          0.001067  \n",
       "Other UL (Bytes)                 0.003421         -0.001324  \n",
       "Total UL (Bytes)                -0.001921         -0.001895  \n",
       "Social Media DL (Bytes)          0.006126          0.005164  \n",
       "Google DL (Bytes)               -0.002557          0.012189  \n",
       "Email DL (Bytes)                -0.000444          0.004395  \n",
       "Youtube DL (Bytes)               0.002042          0.025685  \n",
       "Netflix DL (Bytes)              -0.006000          0.024386  \n",
       "Gaming DL (Bytes)               -0.002591          0.999131  \n",
       "Gaming DL (Bytes)               -0.002591          0.999131  \n",
       "Other DL (Bytes)                 1.000000         -0.002709  \n",
       "Total DL (Bytes)                -0.002709          1.000000  "
      ]
     },
     "execution_count": 39,
     "metadata": {},
     "output_type": "execute_result"
    }
   ],
   "source": [
    "data_corr.corr()"
   ]
  },
  {
   "cell_type": "code",
   "execution_count": 40,
   "metadata": {},
   "outputs": [
    {
     "data": {
      "text/plain": [
       "<matplotlib.axes._subplots.AxesSubplot at 0x23148ef5438>"
      ]
     },
     "execution_count": 40,
     "metadata": {},
     "output_type": "execute_result"
    },
    {
     "data": {
      "image/png": "[encoded data removed]",
      "text/plain": [
       "<Figure size 432x288 with 2 Axes>"
      ]
     },
     "metadata": {
      "needs_background": "light"
     },
     "output_type": "display_data"
    }
   ],
   "source": [
    "# plt.figure(figsize = (20,30))\n",
    "sns.heatmap(dl_df.corr(), annot = False)"
   ]
  },
  {
   "cell_type": "code",
   "execution_count": 41,
   "metadata": {},
   "outputs": [
    {
     "data": {
      "text/plain": [
       "<matplotlib.axes._subplots.AxesSubplot at 0x23155ff8e80>"
      ]
     },
     "execution_count": 41,
     "metadata": {},
     "output_type": "execute_result"
    },
    {
     "data": {
      "image/png": "[encoded data removed]",
      "text/plain": [
       "<Figure size 432x288 with 2 Axes>"
      ]
     },
     "metadata": {
      "needs_background": "light"
     },
     "output_type": "display_data"
    }
   ],
   "source": [
    "sns.heatmap(ul_df.corr(), annot = False)"
   ]
  },
  {
   "cell_type": "markdown",
   "metadata": {},
   "source": [
    "## Comparing different applications for DL"
   ]
  },
  {
   "cell_type": "code",
   "execution_count": 42,
   "metadata": {},
   "outputs": [
    {
     "data": {
      "text/html": [
       "<div>\n",
       "<style scoped>\n",
       "    .dataframe tbody tr th:only-of-type {\n",
       "        vertical-align: middle;\n",
       "    }\n",
       "\n",
       "    .dataframe tbody tr th {\n",
       "        vertical-align: top;\n",
       "    }\n",
       "\n",
       "    .dataframe thead th {\n",
       "        text-align: right;\n",
       "    }\n",
       "</style>\n",
       "<table border=\"1\" class=\"dataframe\">\n",
       "  <thead>\n",
       "    <tr style=\"text-align: right;\">\n",
       "      <th></th>\n",
       "      <th>sum_sq</th>\n",
       "      <th>df</th>\n",
       "      <th>F</th>\n",
       "      <th>PR(&gt;F)</th>\n",
       "    </tr>\n",
       "  </thead>\n",
       "  <tbody>\n",
       "    <tr>\n",
       "      <th>C(treatments)</th>\n",
       "      <td>7.258860e+22</td>\n",
       "      <td>7.0</td>\n",
       "      <td>319573.60252</td>\n",
       "      <td>0.0</td>\n",
       "    </tr>\n",
       "    <tr>\n",
       "      <th>Residual</th>\n",
       "      <td>5.354069e+22</td>\n",
       "      <td>1650002.0</td>\n",
       "      <td>NaN</td>\n",
       "      <td>NaN</td>\n",
       "    </tr>\n",
       "  </tbody>\n",
       "</table>\n",
       "</div>"
      ],
      "text/plain": [
       "                     sum_sq         df             F  PR(>F)\n",
       "C(treatments)  7.258860e+22        7.0  319573.60252     0.0\n",
       "Residual       5.354069e+22  1650002.0           NaN     NaN"
      ]
     },
     "execution_count": 42,
     "metadata": {},
     "output_type": "execute_result"
    }
   ],
   "source": [
    "# get ANOVA table as R like output\n",
    "import statsmodels.api as sm\n",
    "from statsmodels.formula.api import ols\n",
    "# reshape the d dataframe suitable for statsmodels package \n",
    "d_melt = pd.melt(dl_df.reset_index(), id_vars=['index'],\n",
    "                 value_vars=['Social Media DL (Bytes)', 'Google DL (Bytes)', 'Email DL (Bytes)',\n",
    "       'Youtube DL (Bytes)', 'Netflix DL (Bytes)', 'Gaming DL (Bytes)',\n",
    "       'Gaming DL (Bytes)', 'Other DL (Bytes)', 'Total DL (Bytes)'])\n",
    "# replace column names\n",
    "d_melt.columns = ['index', 'treatments', 'value']\n",
    "# Ordinary Least Squares (OLS) model\n",
    "model = ols('value ~ C(treatments)', data=d_melt).fit()\n",
    "anova_table = sm.stats.anova_lm(model, typ=2)\n",
    "anova_table"
   ]
  },
  {
   "cell_type": "code",
   "execution_count": 43,
   "metadata": {},
   "outputs": [],
   "source": [
    "# !pip install pingouin"
   ]
  },
  {
   "cell_type": "code",
   "execution_count": 44,
   "metadata": {},
   "outputs": [
    {
     "ename": "ModuleNotFoundError",
     "evalue": "No module named 'pingouin'",
     "output_type": "error",
     "traceback": [
      "\u001b[1;31m---------------------------------------------------------------------------\u001b[0m",
      "\u001b[1;31mModuleNotFoundError\u001b[0m                       Traceback (most recent call last)",
      "\u001b[1;32m<ipython-input-44-89e2892cc863>\u001b[0m in \u001b[0;36m<module>\u001b[1;34m()\u001b[0m\n\u001b[0;32m      1\u001b[0m \u001b[1;31m# load packages\u001b[0m\u001b[1;33m\u001b[0m\u001b[1;33m\u001b[0m\u001b[0m\n\u001b[1;32m----> 2\u001b[1;33m \u001b[1;32mfrom\u001b[0m \u001b[0mpingouin\u001b[0m \u001b[1;32mimport\u001b[0m \u001b[0mpairwise_tukey\u001b[0m\u001b[1;33m\u001b[0m\u001b[0m\n\u001b[0m\u001b[0;32m      3\u001b[0m \u001b[1;31m# perform multiple pairwise comparison (Tukey HSD)\u001b[0m\u001b[1;33m\u001b[0m\u001b[1;33m\u001b[0m\u001b[0m\n\u001b[0;32m      4\u001b[0m \u001b[1;31m# for unbalanced (unequal sample size) data, pairwise_tukey uses Tukey-Kramer test\u001b[0m\u001b[1;33m\u001b[0m\u001b[1;33m\u001b[0m\u001b[0m\n\u001b[0;32m      5\u001b[0m \u001b[0mm_comp\u001b[0m \u001b[1;33m=\u001b[0m \u001b[0mpairwise_tukey\u001b[0m\u001b[1;33m(\u001b[0m\u001b[0mdata\u001b[0m\u001b[1;33m=\u001b[0m\u001b[0md_melt\u001b[0m\u001b[1;33m,\u001b[0m \u001b[0mdv\u001b[0m\u001b[1;33m=\u001b[0m\u001b[1;34m'value'\u001b[0m\u001b[1;33m,\u001b[0m \u001b[0mbetween\u001b[0m\u001b[1;33m=\u001b[0m\u001b[1;34m'treatments'\u001b[0m\u001b[1;33m)\u001b[0m\u001b[1;33m\u001b[0m\u001b[0m\n",
      "\u001b[1;31mModuleNotFoundError\u001b[0m: No module named 'pingouin'"
     ]
    }
   ],
   "source": [
    "# load packages\n",
    "from pingouin import pairwise_tukey\n",
    "# perform multiple pairwise comparison (Tukey HSD)\n",
    "# for unbalanced (unequal sample size) data, pairwise_tukey uses Tukey-Kramer test\n",
    "m_comp = pairwise_tukey(data=d_melt, dv='value', between='treatments')\n",
    "print(m_comp)"
   ]
  },
  {
   "cell_type": "markdown",
   "metadata": {},
   "source": [
    "## Comapring mean for UL"
   ]
  },
  {
   "cell_type": "code",
   "execution_count": null,
   "metadata": {},
   "outputs": [],
   "source": [
    "# get ANOVA table as R like output\n",
    "import statsmodels.api as sm\n",
    "from statsmodels.formula.api import ols\n",
    "# reshape the d dataframe suitable for statsmodels package \n",
    "d_melt = pd.melt(ul_df.reset_index(), id_vars=['index'],\n",
    "                 value_vars=['Social Media UL (Bytes)', 'Google UL (Bytes)', 'Email UL (Bytes)',\n",
    "       'Youtube UL (Bytes)', 'Netflix UL (Bytes)', 'Gaming UL (Bytes)',\n",
    "       'Gaming UL (Bytes)', 'Other UL (Bytes)', 'Total UL (Bytes)'])\n",
    "# replace column names\n",
    "d_melt.columns = ['index', 'treatments', 'value']\n",
    "# Ordinary Least Squares (OLS) model\n",
    "model = ols('value ~ C(treatments)', data=d_melt).fit()\n",
    "anova_table = sm.stats.anova_lm(model, typ=2)\n",
    "anova_table"
   ]
  },
  {
   "cell_type": "code",
   "execution_count": null,
   "metadata": {},
   "outputs": [],
   "source": [
    "# load packages\n",
    "from pingouin import pairwise_tukey\n",
    "# perform multiple pairwise comparison (Tukey HSD)\n",
    "# for unbalanced (unequal sample size) data, pairwise_tukey uses Tukey-Kramer test\n",
    "m_comp = pairwise_tukey(data=d_melt, dv='value', between='treatments')\n",
    "print(m_comp)"
   ]
  },
  {
   "cell_type": "code",
   "execution_count": null,
   "metadata": {},
   "outputs": [],
   "source": []
  }
 ],
 "metadata": {
  "kernelspec": {
   "display_name": "Python 3",
   "language": "python",
   "name": "python3"
  },
  "language_info": {
   "codemirror_mode": {
    "name": "ipython",
    "version": 3
   },
   "file_extension": ".py",
   "mimetype": "text/x-python",
   "name": "python",
   "nbconvert_exporter": "python",
   "pygments_lexer": "ipython3",
   "version": "3.7.0"
  }
 },
 "nbformat": 4,
 "nbformat_minor": 2
}
